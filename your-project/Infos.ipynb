{
 "cells": [
  {
   "cell_type": "markdown",
   "metadata": {},
   "source": [
    "# Breast Cancer Wisconsin (Diagnostic) Data Set\n",
    "\n",
    "## Predict whether the cancer is benign or malignant"
   ]
  },
  {
   "cell_type": "markdown",
   "metadata": {},
   "source": [
    "### Description"
   ]
  },
  {
   "cell_type": "markdown",
   "metadata": {},
   "source": [
    "Features are computed from a digitized image of a fine needle aspirate (FNA) of a breast mass. They describe characteristics of the cell nuclei present in the image.\n",
    "n the 3-dimensional space is that described in: [K. P. Bennett and O. L. Mangasarian: \"Robust Linear Programming Discrimination of Two Linearly Inseparable Sets\", Optimization Methods and Software 1, 1992, 23-34].\n",
    "\n",
    "This database is also available through the UW CS ftp server:\n",
    "ftp ftp.cs.wisc.edu\n",
    "cd math-prog/cpo-dataset/machine-learn/WDBC/\n",
    "\n",
    "Also can be found on UCI Machine Learning Repository: https://archive.ics.uci.edu/ml/datasets/Breast+Cancer+Wisconsin+%28Diagnostic%29\n",
    "\n",
    "Attribute Information:\n",
    "\n",
    "1) ID number\n",
    "2) Diagnosis (M = malignant, B = benign)\n",
    "3-32)\n",
    "\n",
    "Ten real-valued features are computed for each cell nucleus:\n",
    "\n",
    "a) radius (mean of distances from center to points on the perimeter)\\\n",
    "b) texture (standard deviation of gray-scale values)\\\n",
    "c) perimeter\\\n",
    "d) area\\\n",
    "e) smoothness (local variation in radius lengths)\\\n",
    "f) compactness (perimeter^2 / area - 1.0)\\\n",
    "g) concavity (severity of concave portions of the contour)\\\n",
    "h) concave points (number of concave portions of the contour)\\\n",
    "i) symmetry\\\n",
    "j) fractal dimension (\"coastline approximation\" - 1)\n",
    "\n",
    "The mean, standard error and \"worst\" or largest (mean of the three\n",
    "largest values) of these features were computed for each image,\n",
    "resulting in 30 features. For instance, field 3 is Mean Radius, field\n",
    "13 is Radius SE, field 23 is Worst Radius.\n",
    "\n",
    "All feature values are recoded with four significant digits.\n",
    "\n",
    "Missing attribute values: none\n",
    "\n",
    "Class distribution: 357 benign, 212 malignant"
   ]
  },
  {
   "cell_type": "code",
   "execution_count": null,
   "metadata": {},
   "outputs": [],
   "source": []
  },
  {
   "cell_type": "code",
   "execution_count": null,
   "metadata": {},
   "outputs": [],
   "source": []
  },
  {
   "cell_type": "markdown",
   "metadata": {},
   "source": [
    "Models:\n",
    "\n",
    "https://www.kaggle.com/alancalumby/breast-cancer-predicting-model\n",
    "\n",
    "https://www.kaggle.com/aditiani/breast-cancer-prediction-using-knn-decision-tree\n",
    "\n",
    "https://www.kaggle.com/nisasoylu/machine-learning-implementation-on-cancer-dataset\n"
   ]
  },
  {
   "cell_type": "markdown",
   "metadata": {},
   "source": [
    "Column names and meanings:\n",
    "\n",
    "id: ID number\\\n",
    "diagnosis: The diagnosis of breast tissues (M = malignant, B = benign)\\\n",
    "radius_mean: mean of distances from center to points on the perimeter\\\n",
    "texture_mean: standard deviation of gray-scale values\\\n",
    "perimeter_mean: mean size of the core tumor\\\n",
    "area_mean: area of the tumor\\\n",
    "smoothness_mean: mean of local variation in radius lengths\\\n",
    "compactness_mean: mean of perimeter^2 / area - 1.0\\\n",
    "concavity_mean: mean of severity of concave portions of the contour\\\n",
    "concave_points_mean: mean for number of concave portions of the contour\\\n",
    "symmetry_mean\\\n",
    "fractal_dimension_mean: mean for \"coastline approximation\" - 1\\\n",
    "radius_se: standard error for the mean of distances from center to points on the perimeter\\\n",
    "texture_se: standard error for standard deviation of gray-scale values\\\n",
    "perimeter_se\\\n",
    "area_se\\\n",
    "smoothness_se: standard error for local variation in radius lengths\\\n",
    "compactness_se: standard error for perimeter^2 / area - 1.0\\\n",
    "concavity_se: standard error for severity of concave portions of the contour\\\n",
    "concave_points_se: standard error for number of concave portions of the contour\\\n",
    "symmetry_se\\\n",
    "fractal_dimension_se: standard error for \"coastline approximation\" - 1\\\n",
    "radius_worst: \"worst\" or largest mean value for mean of distances from center to points on the perimeter\\\n",
    "texture_worst: \"worst\" or largest mean value for standard deviation of gray-scale values\\\n",
    "perimeter_worst\\\n",
    "area_worst\\\n",
    "smoothness_worst: \"worst\" or largest mean value for local variation in radius lengths\\\n",
    "compactness_worst: \"worst\" or largest mean value for perimeter^2 / area - 1.0\\\n",
    "concavity_worst: \"worst\" or largest mean value for severity of concave portions of the contour\\\n",
    "concave_points_worst: \"worst\" or largest mean value for number of concave portions of the contour\\\n",
    "symmetry_worst\\\n",
    "fractal_dimension_worst: \"worst\" or largest mean value for \"coastline approximation\" - 1"
   ]
  },
  {
   "cell_type": "code",
   "execution_count": null,
   "metadata": {},
   "outputs": [],
   "source": []
  }
 ],
 "metadata": {
  "kernelspec": {
   "display_name": "Python 3",
   "language": "python",
   "name": "python3"
  },
  "language_info": {
   "codemirror_mode": {
    "name": "ipython",
    "version": 3
   },
   "file_extension": ".py",
   "mimetype": "text/x-python",
   "name": "python",
   "nbconvert_exporter": "python",
   "pygments_lexer": "ipython3",
   "version": "3.8.5"
  },
  "toc": {
   "base_numbering": 1,
   "nav_menu": {},
   "number_sections": true,
   "sideBar": true,
   "skip_h1_title": false,
   "title_cell": "Table of Contents",
   "title_sidebar": "Contents",
   "toc_cell": false,
   "toc_position": {},
   "toc_section_display": true,
   "toc_window_display": true
  },
  "varInspector": {
   "cols": {
    "lenName": 16,
    "lenType": 16,
    "lenVar": 40
   },
   "kernels_config": {
    "python": {
     "delete_cmd_postfix": "",
     "delete_cmd_prefix": "del ",
     "library": "var_list.py",
     "varRefreshCmd": "print(var_dic_list())"
    },
    "r": {
     "delete_cmd_postfix": ") ",
     "delete_cmd_prefix": "rm(",
     "library": "var_list.r",
     "varRefreshCmd": "cat(var_dic_list()) "
    }
   },
   "types_to_exclude": [
    "module",
    "function",
    "builtin_function_or_method",
    "instance",
    "_Feature"
   ],
   "window_display": false
  }
 },
 "nbformat": 4,
 "nbformat_minor": 4
}
