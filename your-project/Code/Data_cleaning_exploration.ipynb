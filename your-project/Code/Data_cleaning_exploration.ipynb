{
 "cells": [
  {
   "cell_type": "markdown",
   "metadata": {},
   "source": [
    "# Data Cleaning & Exploration"
   ]
  },
  {
   "cell_type": "markdown",
   "metadata": {
    "heading_collapsed": true
   },
   "source": [
    "## Libraries"
   ]
  },
  {
   "cell_type": "code",
   "execution_count": 1,
   "metadata": {
    "hidden": true
   },
   "outputs": [],
   "source": [
    "import pandas as pd\n",
    "import numpy as np\n",
    "import re\n",
    "import datetime\n",
    "from datetime import datetime\n",
    "import math\n",
    "import matplotlib.pyplot as plt\n",
    "import seaborn as sns\n",
    "\n",
    "%matplotlib inline"
   ]
  },
  {
   "cell_type": "markdown",
   "metadata": {},
   "source": [
    "## DF basics"
   ]
  },
  {
   "cell_type": "code",
   "execution_count": 2,
   "metadata": {},
   "outputs": [],
   "source": [
    "df = pd.read_csv('../Data/Google-Playstore.csv')"
   ]
  },
  {
   "cell_type": "code",
   "execution_count": 3,
   "metadata": {},
   "outputs": [
    {
     "data": {
      "text/html": [
       "<div>\n",
       "<style scoped>\n",
       "    .dataframe tbody tr th:only-of-type {\n",
       "        vertical-align: middle;\n",
       "    }\n",
       "\n",
       "    .dataframe tbody tr th {\n",
       "        vertical-align: top;\n",
       "    }\n",
       "\n",
       "    .dataframe thead th {\n",
       "        text-align: right;\n",
       "    }\n",
       "</style>\n",
       "<table border=\"1\" class=\"dataframe\">\n",
       "  <thead>\n",
       "    <tr style=\"text-align: right;\">\n",
       "      <th></th>\n",
       "      <th>App Name</th>\n",
       "      <th>App Id</th>\n",
       "      <th>Category</th>\n",
       "      <th>Rating</th>\n",
       "      <th>Rating Count</th>\n",
       "      <th>Installs</th>\n",
       "      <th>Minimum Installs</th>\n",
       "      <th>Maximum Installs</th>\n",
       "      <th>Free</th>\n",
       "      <th>Price</th>\n",
       "      <th>...</th>\n",
       "      <th>Developer Id</th>\n",
       "      <th>Developer Website</th>\n",
       "      <th>Developer Email</th>\n",
       "      <th>Released</th>\n",
       "      <th>Last Updated</th>\n",
       "      <th>Content Rating</th>\n",
       "      <th>Privacy Policy</th>\n",
       "      <th>Ad Supported</th>\n",
       "      <th>In App Purchases</th>\n",
       "      <th>Editors Choice</th>\n",
       "    </tr>\n",
       "  </thead>\n",
       "  <tbody>\n",
       "    <tr>\n",
       "      <th>0</th>\n",
       "      <td>HTTrack Website Copier</td>\n",
       "      <td>com.httrack.android</td>\n",
       "      <td>Communication</td>\n",
       "      <td>3.6</td>\n",
       "      <td>2848.0</td>\n",
       "      <td>100,000+</td>\n",
       "      <td>100000.0</td>\n",
       "      <td>351560</td>\n",
       "      <td>True</td>\n",
       "      <td>0.0</td>\n",
       "      <td>...</td>\n",
       "      <td>Xavier Roche</td>\n",
       "      <td>http://www.httrack.com/</td>\n",
       "      <td>roche+android@httrack.com</td>\n",
       "      <td>Aug 12, 2013</td>\n",
       "      <td>May 20, 2017</td>\n",
       "      <td>Everyone</td>\n",
       "      <td>http://android.httrack.com/privacy-policy.html</td>\n",
       "      <td>False</td>\n",
       "      <td>False</td>\n",
       "      <td>False</td>\n",
       "    </tr>\n",
       "    <tr>\n",
       "      <th>1</th>\n",
       "      <td>World War 2: Offline Strategy</td>\n",
       "      <td>com.skizze.wwii</td>\n",
       "      <td>Strategy</td>\n",
       "      <td>4.3</td>\n",
       "      <td>17297.0</td>\n",
       "      <td>1,000,000+</td>\n",
       "      <td>1000000.0</td>\n",
       "      <td>2161778</td>\n",
       "      <td>True</td>\n",
       "      <td>0.0</td>\n",
       "      <td>...</td>\n",
       "      <td>Skizze Games</td>\n",
       "      <td>http://stereo7.com/</td>\n",
       "      <td>Skizze.Games@gmail.com</td>\n",
       "      <td>Jul 19, 2018</td>\n",
       "      <td>Nov 26, 2020</td>\n",
       "      <td>Everyone 10+</td>\n",
       "      <td>https://www.iubenda.com/privacy-policy/8032781</td>\n",
       "      <td>True</td>\n",
       "      <td>True</td>\n",
       "      <td>False</td>\n",
       "    </tr>\n",
       "    <tr>\n",
       "      <th>2</th>\n",
       "      <td>WPSApp</td>\n",
       "      <td>com.themausoft.wpsapp</td>\n",
       "      <td>Tools</td>\n",
       "      <td>4.2</td>\n",
       "      <td>488639.0</td>\n",
       "      <td>50,000,000+</td>\n",
       "      <td>50000000.0</td>\n",
       "      <td>79304739</td>\n",
       "      <td>True</td>\n",
       "      <td>0.0</td>\n",
       "      <td>...</td>\n",
       "      <td>TheMauSoft</td>\n",
       "      <td>http://www.themausoft.com</td>\n",
       "      <td>wpsapp.app@gmail.com</td>\n",
       "      <td>Mar 7, 2016</td>\n",
       "      <td>Oct 21, 2020</td>\n",
       "      <td>Everyone</td>\n",
       "      <td>https://sites.google.com/view/wpsapppolicy/main</td>\n",
       "      <td>True</td>\n",
       "      <td>False</td>\n",
       "      <td>False</td>\n",
       "    </tr>\n",
       "    <tr>\n",
       "      <th>3</th>\n",
       "      <td>OfficeSuite - Office, PDF, Word, Excel, PowerP...</td>\n",
       "      <td>com.mobisystems.office</td>\n",
       "      <td>Business</td>\n",
       "      <td>4.2</td>\n",
       "      <td>1224420.0</td>\n",
       "      <td>100,000,000+</td>\n",
       "      <td>100000000.0</td>\n",
       "      <td>163660067</td>\n",
       "      <td>True</td>\n",
       "      <td>0.0</td>\n",
       "      <td>...</td>\n",
       "      <td>MobiSystems</td>\n",
       "      <td>http://www.mobisystems.com</td>\n",
       "      <td>support-officesuite-android@mobisystems.com</td>\n",
       "      <td>Dec 22, 2011</td>\n",
       "      <td>Nov 23, 2020</td>\n",
       "      <td>Everyone</td>\n",
       "      <td>http://www.mobisystems.com/mobile/privacy-poli...</td>\n",
       "      <td>True</td>\n",
       "      <td>True</td>\n",
       "      <td>False</td>\n",
       "    </tr>\n",
       "    <tr>\n",
       "      <th>4</th>\n",
       "      <td>Loud Player Free</td>\n",
       "      <td>com.arthelion.loudplayer</td>\n",
       "      <td>Music &amp; Audio</td>\n",
       "      <td>4.2</td>\n",
       "      <td>665.0</td>\n",
       "      <td>50,000+</td>\n",
       "      <td>50000.0</td>\n",
       "      <td>73463</td>\n",
       "      <td>True</td>\n",
       "      <td>0.0</td>\n",
       "      <td>...</td>\n",
       "      <td>Arthelion92</td>\n",
       "      <td>http://www.arthelion.com</td>\n",
       "      <td>arthelion92@gmail.com</td>\n",
       "      <td>Sep 24, 2016</td>\n",
       "      <td>Nov 22, 2020</td>\n",
       "      <td>Everyone</td>\n",
       "      <td>http://www.arthelion.com/index.php/fr/android-...</td>\n",
       "      <td>False</td>\n",
       "      <td>False</td>\n",
       "      <td>False</td>\n",
       "    </tr>\n",
       "  </tbody>\n",
       "</table>\n",
       "<p>5 rows × 23 columns</p>\n",
       "</div>"
      ],
      "text/plain": [
       "                                            App Name  \\\n",
       "0                             HTTrack Website Copier   \n",
       "1                      World War 2: Offline Strategy   \n",
       "2                                             WPSApp   \n",
       "3  OfficeSuite - Office, PDF, Word, Excel, PowerP...   \n",
       "4                                   Loud Player Free   \n",
       "\n",
       "                     App Id       Category  Rating  Rating Count  \\\n",
       "0       com.httrack.android  Communication     3.6        2848.0   \n",
       "1           com.skizze.wwii       Strategy     4.3       17297.0   \n",
       "2     com.themausoft.wpsapp          Tools     4.2      488639.0   \n",
       "3    com.mobisystems.office       Business     4.2     1224420.0   \n",
       "4  com.arthelion.loudplayer  Music & Audio     4.2         665.0   \n",
       "\n",
       "       Installs  Minimum Installs  Maximum Installs  Free  Price  ...  \\\n",
       "0      100,000+          100000.0            351560  True    0.0  ...   \n",
       "1    1,000,000+         1000000.0           2161778  True    0.0  ...   \n",
       "2   50,000,000+        50000000.0          79304739  True    0.0  ...   \n",
       "3  100,000,000+       100000000.0         163660067  True    0.0  ...   \n",
       "4       50,000+           50000.0             73463  True    0.0  ...   \n",
       "\n",
       "   Developer Id           Developer Website  \\\n",
       "0  Xavier Roche     http://www.httrack.com/   \n",
       "1  Skizze Games         http://stereo7.com/   \n",
       "2    TheMauSoft   http://www.themausoft.com   \n",
       "3   MobiSystems  http://www.mobisystems.com   \n",
       "4   Arthelion92    http://www.arthelion.com   \n",
       "\n",
       "                               Developer Email      Released  Last Updated  \\\n",
       "0                    roche+android@httrack.com  Aug 12, 2013  May 20, 2017   \n",
       "1                       Skizze.Games@gmail.com  Jul 19, 2018  Nov 26, 2020   \n",
       "2                         wpsapp.app@gmail.com   Mar 7, 2016  Oct 21, 2020   \n",
       "3  support-officesuite-android@mobisystems.com  Dec 22, 2011  Nov 23, 2020   \n",
       "4                        arthelion92@gmail.com  Sep 24, 2016  Nov 22, 2020   \n",
       "\n",
       "  Content Rating                                     Privacy Policy  \\\n",
       "0       Everyone     http://android.httrack.com/privacy-policy.html   \n",
       "1   Everyone 10+     https://www.iubenda.com/privacy-policy/8032781   \n",
       "2       Everyone    https://sites.google.com/view/wpsapppolicy/main   \n",
       "3       Everyone  http://www.mobisystems.com/mobile/privacy-poli...   \n",
       "4       Everyone  http://www.arthelion.com/index.php/fr/android-...   \n",
       "\n",
       "  Ad Supported In App Purchases Editors Choice  \n",
       "0        False            False          False  \n",
       "1         True             True          False  \n",
       "2         True            False          False  \n",
       "3         True             True          False  \n",
       "4        False            False          False  \n",
       "\n",
       "[5 rows x 23 columns]"
      ]
     },
     "execution_count": 3,
     "metadata": {},
     "output_type": "execute_result"
    }
   ],
   "source": [
    "df.head()"
   ]
  },
  {
   "cell_type": "code",
   "execution_count": 4,
   "metadata": {},
   "outputs": [
    {
     "data": {
      "text/plain": [
       "(1118136, 23)"
      ]
     },
     "execution_count": 4,
     "metadata": {},
     "output_type": "execute_result"
    }
   ],
   "source": [
    "df.shape"
   ]
  },
  {
   "cell_type": "code",
   "execution_count": 5,
   "metadata": {},
   "outputs": [
    {
     "name": "stdout",
     "output_type": "stream",
     "text": [
      "<class 'pandas.core.frame.DataFrame'>\n",
      "RangeIndex: 1118136 entries, 0 to 1118135\n",
      "Data columns (total 23 columns):\n",
      " #   Column             Non-Null Count    Dtype  \n",
      "---  ------             --------------    -----  \n",
      " 0   App Name           1118135 non-null  object \n",
      " 1   App Id             1118136 non-null  object \n",
      " 2   Category           1118133 non-null  object \n",
      " 3   Rating             1111286 non-null  float64\n",
      " 4   Rating Count       1111286 non-null  float64\n",
      " 5   Installs           1117975 non-null  object \n",
      " 6   Minimum Installs   1117975 non-null  float64\n",
      " 7   Maximum Installs   1118136 non-null  int64  \n",
      " 8   Free               1118136 non-null  bool   \n",
      " 9   Price              1118136 non-null  float64\n",
      " 10  Currency           1117975 non-null  object \n",
      " 11  Size               1118136 non-null  object \n",
      " 12  Minimum Android    1116123 non-null  object \n",
      " 13  Developer Id       1118134 non-null  object \n",
      " 14  Developer Website  703770 non-null   object \n",
      " 15  Developer Email    1118114 non-null  object \n",
      " 16  Released           1110406 non-null  object \n",
      " 17  Last Updated       1118136 non-null  object \n",
      " 18  Content Rating     1118136 non-null  object \n",
      " 19  Privacy Policy     964612 non-null   object \n",
      " 20  Ad Supported       1118136 non-null  bool   \n",
      " 21  In App Purchases   1118136 non-null  bool   \n",
      " 22  Editors Choice     1118136 non-null  bool   \n",
      "dtypes: bool(4), float64(4), int64(1), object(14)\n",
      "memory usage: 166.3+ MB\n"
     ]
    }
   ],
   "source": [
    "df.info()"
   ]
  },
  {
   "cell_type": "markdown",
   "metadata": {
    "heading_collapsed": true
   },
   "source": [
    "### Drop NaNs"
   ]
  },
  {
   "cell_type": "code",
   "execution_count": 6,
   "metadata": {
    "hidden": true
   },
   "outputs": [
    {
     "data": {
      "text/plain": [
       "App Name                  1\n",
       "App Id                    0\n",
       "Category                  3\n",
       "Rating                 6850\n",
       "Rating Count           6850\n",
       "Installs                161\n",
       "Minimum Installs        161\n",
       "Maximum Installs          0\n",
       "Free                      0\n",
       "Price                     0\n",
       "Currency                161\n",
       "Size                      0\n",
       "Minimum Android        2013\n",
       "Developer Id              2\n",
       "Developer Website    414366\n",
       "Developer Email          22\n",
       "Released               7730\n",
       "Last Updated              0\n",
       "Content Rating            0\n",
       "Privacy Policy       153524\n",
       "Ad Supported              0\n",
       "In App Purchases          0\n",
       "Editors Choice            0\n",
       "dtype: int64"
      ]
     },
     "execution_count": 6,
     "metadata": {},
     "output_type": "execute_result"
    }
   ],
   "source": [
    "df.isnull().sum()"
   ]
  },
  {
   "cell_type": "code",
   "execution_count": 7,
   "metadata": {
    "hidden": true
   },
   "outputs": [],
   "source": [
    "# drop Nans in rating/rating count, installs/minimum installs (all columns with numerical values)"
   ]
  },
  {
   "cell_type": "code",
   "execution_count": 8,
   "metadata": {
    "hidden": true
   },
   "outputs": [],
   "source": [
    "df = df.dropna(subset=['Rating', 'Installs', 'App Name', 'Category']).reset_index()"
   ]
  },
  {
   "cell_type": "code",
   "execution_count": 9,
   "metadata": {
    "hidden": true
   },
   "outputs": [],
   "source": [
    "df.drop(['index'], axis = 1, inplace = True)"
   ]
  },
  {
   "cell_type": "code",
   "execution_count": 10,
   "metadata": {
    "hidden": true
   },
   "outputs": [
    {
     "data": {
      "text/plain": [
       "App Name                  0\n",
       "App Id                    0\n",
       "Category                  0\n",
       "Rating                    0\n",
       "Rating Count              0\n",
       "Installs                  0\n",
       "Minimum Installs          0\n",
       "Maximum Installs          0\n",
       "Free                      0\n",
       "Price                     0\n",
       "Currency                  0\n",
       "Size                      0\n",
       "Minimum Android        2011\n",
       "Developer Id              2\n",
       "Developer Website    411598\n",
       "Developer Email          22\n",
       "Released                946\n",
       "Last Updated              0\n",
       "Content Rating            0\n",
       "Privacy Policy       152426\n",
       "Ad Supported              0\n",
       "In App Purchases          0\n",
       "Editors Choice            0\n",
       "dtype: int64"
      ]
     },
     "execution_count": 10,
     "metadata": {},
     "output_type": "execute_result"
    }
   ],
   "source": [
    "df.isnull().sum()"
   ]
  },
  {
   "cell_type": "markdown",
   "metadata": {
    "heading_collapsed": true
   },
   "source": [
    "### Values"
   ]
  },
  {
   "cell_type": "code",
   "execution_count": 11,
   "metadata": {
    "hidden": true
   },
   "outputs": [
    {
     "data": {
      "text/plain": [
       "array([3.6, 4.3, 4.2, 3.5, 4.4, 4. , 4.1, 3.3, 3. , 3.1, 3.2, 2.8, 4.5,\n",
       "       4.9, 3.7, 3.9, 4.7, 0. , 1.1, 3.8, 3.4, 2.6, 4.6, 4.8, 2.4, 2.7,\n",
       "       2. , 2.3, 2.2, 1.9, 5. , 2.1, 2.9, 2.5, 1.5, 1.7, 1.8, 1.6, 1.4,\n",
       "       1.2, 1.3, 1. ])"
      ]
     },
     "execution_count": 11,
     "metadata": {},
     "output_type": "execute_result"
    }
   ],
   "source": [
    "# Check for values\n",
    "df['Rating'].unique()"
   ]
  },
  {
   "cell_type": "code",
   "execution_count": 12,
   "metadata": {
    "hidden": true
   },
   "outputs": [
    {
     "data": {
      "text/plain": [
       "array(['100,000+', '1,000,000+', '50,000,000+', '100,000,000+', '50,000+',\n",
       "       '10,000+', '10,000,000+', '5,000,000+', '500,000,000+', '500+',\n",
       "       '500,000+', '1,000+', '100+', '5,000,000,000+', '5,000+', '10+',\n",
       "       '50+', '1+', '5+', '1,000,000,000+', '0+', '10,000,000,000+'],\n",
       "      dtype=object)"
      ]
     },
     "execution_count": 12,
     "metadata": {},
     "output_type": "execute_result"
    }
   ],
   "source": [
    "df['Installs'].unique()"
   ]
  },
  {
   "cell_type": "code",
   "execution_count": 13,
   "metadata": {
    "hidden": true
   },
   "outputs": [
    {
     "data": {
      "text/plain": [
       "1,000+             197466\n",
       "100+               176192\n",
       "10,000+            157465\n",
       "10+                102678\n",
       "500+                82736\n",
       "100,000+            80118\n",
       "5,000+              79917\n",
       "50+                 61208\n",
       "50,000+             51393\n",
       "1+                  28469\n",
       "1,000,000+          27010\n",
       "5+                  25226\n",
       "500,000+            20680\n",
       "0+                   8826\n",
       "5,000,000+           5498\n",
       "10,000,000+          5168\n",
       "50,000,000+           695\n",
       "100,000,000+          423\n",
       "500,000,000+           54\n",
       "1,000,000,000+         47\n",
       "5,000,000,000+         12\n",
       "10,000,000,000+         1\n",
       "Name: Installs, dtype: int64"
      ]
     },
     "execution_count": 13,
     "metadata": {},
     "output_type": "execute_result"
    }
   ],
   "source": [
    "df['Installs'].value_counts() # remove + / ab 5mil+ zusammenfassen"
   ]
  },
  {
   "cell_type": "code",
   "execution_count": 14,
   "metadata": {
    "hidden": true
   },
   "outputs": [
    {
     "data": {
      "text/plain": [
       "Education                  114865\n",
       "Music & Audio              104441\n",
       "Entertainment               81896\n",
       "Books & Reference           78886\n",
       "Personalization             73418\n",
       "Tools                       68273\n",
       "Lifestyle                   54434\n",
       "Business                    41835\n",
       "Health & Fitness            31269\n",
       "Productivity                30087\n",
       "Photography                 28873\n",
       "Travel & Local              25775\n",
       "Finance                     24673\n",
       "Puzzle                      24642\n",
       "Food & Drink                24112\n",
       "Sports                      21951\n",
       "News & Magazines            21514\n",
       "Shopping                    20320\n",
       "Casual                      19981\n",
       "Communication               18235\n",
       "Arcade                      17376\n",
       "Social                      16877\n",
       "Simulation                  15068\n",
       "Medical                     12468\n",
       "Action                      12330\n",
       "Art & Design                12270\n",
       "Educational                 11288\n",
       "Maps & Navigation           10391\n",
       "Adventure                   10024\n",
       "Video Players & Editors      9038\n",
       "Auto & Vehicles              6772\n",
       "Beauty                       6224\n",
       "Racing                       5929\n",
       "Role Playing                 5475\n",
       "Trivia                       5447\n",
       "House & Home                 5441\n",
       "Board                        5211\n",
       "Word                         4650\n",
       "Card                         4632\n",
       "Strategy                     3966\n",
       "Events                       3750\n",
       "Weather                      2937\n",
       "Dating                       2873\n",
       "Casino                       2635\n",
       "Music                        2493\n",
       "Libraries & Demo             2362\n",
       "Comics                       2104\n",
       "Parenting                    1771\n",
       "Name: Category, dtype: int64"
      ]
     },
     "execution_count": 14,
     "metadata": {},
     "output_type": "execute_result"
    }
   ],
   "source": [
    "df['Category'].value_counts()"
   ]
  },
  {
   "cell_type": "code",
   "execution_count": 15,
   "metadata": {
    "hidden": true
   },
   "outputs": [
    {
     "data": {
      "text/plain": [
       "array(['USD', 'XXX', 'EUR', 'RUB', 'ILS', 'VND', 'JPY', 'ZAR', 'LBP',\n",
       "       'AUD', 'TWD', 'HKD', 'UAH', 'SEK', 'KRW', 'PKR', 'INR', 'CZK',\n",
       "       'CAD', 'TRY', 'KZT', 'SGD', 'IDR', 'DZD', 'AED', 'CHF', 'GBP',\n",
       "       'THB', 'BGN', 'SAR', 'DKK', 'NGN', 'BDT', 'NOK', 'HUF', 'KES',\n",
       "       'LKR', 'NZD', 'MXN', 'RSD', 'MYR', 'BRL', 'COP', 'PEN', 'HRK',\n",
       "       'BOB', 'CRC', 'PLN', 'PHP', 'EGP', 'GHS', 'CLP', 'TZS', 'RON'],\n",
       "      dtype=object)"
      ]
     },
     "execution_count": 15,
     "metadata": {},
     "output_type": "execute_result"
    }
   ],
   "source": [
    "df['Currency'].unique() # whats up with XXX? > free?"
   ]
  },
  {
   "cell_type": "code",
   "execution_count": 16,
   "metadata": {
    "hidden": true
   },
   "outputs": [
    {
     "data": {
      "text/plain": [
       "USD    1069376\n",
       "XXX      41208\n",
       "EUR        118\n",
       "INR        101\n",
       "PKR         53\n",
       "TRY         40\n",
       "BRL         40\n",
       "GBP         37\n",
       "RUB         29\n",
       "VND         18\n",
       "HKD         17\n",
       "IDR         16\n",
       "JPY         15\n",
       "SAR         15\n",
       "CAD         14\n",
       "CHF         13\n",
       "BDT         13\n",
       "ILS         11\n",
       "SGD         10\n",
       "KRW         10\n",
       "UAH          9\n",
       "AED          9\n",
       "NGN          8\n",
       "BGN          8\n",
       "SEK          7\n",
       "AUD          7\n",
       "THB          7\n",
       "PLN          6\n",
       "NOK          5\n",
       "COP          5\n",
       "PHP          4\n",
       "EGP          4\n",
       "LKR          4\n",
       "CZK          4\n",
       "MXN          4\n",
       "ZAR          3\n",
       "TWD          3\n",
       "MYR          3\n",
       "RON          3\n",
       "PEN          3\n",
       "CLP          3\n",
       "HUF          2\n",
       "NZD          2\n",
       "LBP          2\n",
       "KES          2\n",
       "DKK          2\n",
       "GHS          2\n",
       "HRK          1\n",
       "DZD          1\n",
       "KZT          1\n",
       "TZS          1\n",
       "RSD          1\n",
       "BOB          1\n",
       "CRC          1\n",
       "Name: Currency, dtype: int64"
      ]
     },
     "execution_count": 16,
     "metadata": {},
     "output_type": "execute_result"
    }
   ],
   "source": [
    "df['Currency'].value_counts() #put all prices in one currency"
   ]
  },
  {
   "cell_type": "code",
   "execution_count": 17,
   "metadata": {
    "hidden": true
   },
   "outputs": [
    {
     "data": {
      "text/plain": [
       "0.00     1064776\n",
       "0.99       14100\n",
       "1.99        5868\n",
       "1.49        4358\n",
       "2.99        3945\n",
       "          ...   \n",
       "69.00          1\n",
       "12.91          1\n",
       "17.84          1\n",
       "8.57           1\n",
       "5.59           1\n",
       "Name: Price, Length: 705, dtype: int64"
      ]
     },
     "execution_count": 17,
     "metadata": {},
     "output_type": "execute_result"
    }
   ],
   "source": [
    "df['Price'].value_counts()"
   ]
  },
  {
   "cell_type": "code",
   "execution_count": 18,
   "metadata": {
    "hidden": true
   },
   "outputs": [
    {
     "data": {
      "text/plain": [
       "Varies with device    30694\n",
       "11M                   29393\n",
       "12M                   26461\n",
       "13M                   22913\n",
       "14M                   21693\n",
       "                      ...  \n",
       "239M                      1\n",
       "292M                      1\n",
       "437M                      1\n",
       "258M                      1\n",
       "310M                      1\n",
       "Name: Size, Length: 1482, dtype: int64"
      ]
     },
     "execution_count": 18,
     "metadata": {},
     "output_type": "execute_result"
    }
   ],
   "source": [
    "df['Size'].value_counts() # into integer? mb, kb..M &k removal? drop the varies"
   ]
  },
  {
   "cell_type": "code",
   "execution_count": 19,
   "metadata": {
    "hidden": true
   },
   "outputs": [
    {
     "data": {
      "text/plain": [
       "array(['2.7M', '86M', '5.8M', ..., '709M', '338M', '262M'], dtype=object)"
      ]
     },
     "execution_count": 19,
     "metadata": {},
     "output_type": "execute_result"
    }
   ],
   "source": [
    "df['Size'].unique()"
   ]
  },
  {
   "cell_type": "code",
   "execution_count": 20,
   "metadata": {
    "hidden": true
   },
   "outputs": [
    {
     "data": {
      "text/plain": [
       "Everyone           962526\n",
       "Teen                99053\n",
       "Mature 17+          31782\n",
       "Everyone 10+        17802\n",
       "Unrated                66\n",
       "Adults only 18+        53\n",
       "Name: Content Rating, dtype: int64"
      ]
     },
     "execution_count": 20,
     "metadata": {},
     "output_type": "execute_result"
    }
   ],
   "source": [
    "df['Content Rating'].value_counts() # clean up? everyone or other"
   ]
  },
  {
   "cell_type": "code",
   "execution_count": 21,
   "metadata": {
    "hidden": true
   },
   "outputs": [
    {
     "data": {
      "text/plain": [
       "array(['2.3 and up', '5.1 and up', '4.1 and up', '4.4 and up',\n",
       "       '5.0 and up', '6.0 and up', '4.2 and up', '4.0 and up',\n",
       "       'Varies with device', '8.0 and up', '7.0 and up', '3.2 and up',\n",
       "       '1.5 and up', '4.3 and up', '4.0.3 and up', '2.2 and up',\n",
       "       '2.1 and up', '7.1 and up', '4.4W and up', '2.3.3 and up',\n",
       "       '3.0 and up', '1.6 and up', '4.1 - 8.0', nan, '2.0 and up',\n",
       "       '2.0.1 and up', '3.1 and up', '4.1 - 7.0', '1.0 and up',\n",
       "       '4.4 - 5.1', '2.3 - 4.4', '2.3 - 4.4W', '1.1 and up', '5.0 - 6.0',\n",
       "       '2.2 - 4.3', '2.3 - 5.1', '4.0.3 - 8.0', '4.2 - 7.1.1',\n",
       "       '4.3 - 4.4W', '4.0 - 4.4', '4.1 - 4.4', '4.1 - 6.0', '8.0',\n",
       "       '2.1 - 5.0', '4.1 - 4.3', '1.5 - 2.1', '4.1 - 5.1', '7.0',\n",
       "       '2.3 - 3.2', '4.4', '2.3.3 - 6.0', '4.1 - 7.1.1', '4.0 - 4.4W',\n",
       "       '4.1 - 4.4W', '4.0.3 - 7.1.1', '2.2', '5.0 - 8.0', '3.0 - 5.0',\n",
       "       '4.0 - 6.0', '4.4 - 7.1.1', '2.2 - 3.2', '2.3 - 4.0.2',\n",
       "       '2.1 - 4.4', '2.2 - 4.0.4', '4.0 - 5.0', '6.0 - 7.1.1',\n",
       "       '2.3.3 - 2.3.4', '2.3.3 - 4.3', '4.0 - 5.1', '4.4 - 7.0',\n",
       "       '2.3 - 6.0', '2.3 - 7.1.1', '3.0 - 6.0', '2.3 - 5.0',\n",
       "       '2.3 - 4.2.2', '4.0.3 - 4.4', '3.0 - 4.1.1', '4.2 - 8.0',\n",
       "       '4.0 - 8.0', '2.2 - 4.2.2', '2.3.3 - 4.4', '2.1 - 4.4W',\n",
       "       '2.3 - 4.1.1', '6.0', '2.2 - 4.4', '2.1 - 3.2', '2.3 - 7.0',\n",
       "       '4.2 - 6.0', '1.6 - 8.0', '2.2 - 4.4W', '1.6 - 4.4W',\n",
       "       '1.6 - 4.2.2', '4.0 - 7.0', '2.0 - 4.4', '4.2 - 4.3', '2.2 - 5.0',\n",
       "       '4.3', '4.3 - 4.4', '2.3.3 - 5.0', '4.4 - 8.0', '2.3.3 - 7.1.1',\n",
       "       '2.1 - 4.1.1', '4.0.3 - 7.0', '5.1 - 6.0', '4.0.3 - 6.0',\n",
       "       '2.1 - 6.0', '5.1 - 7.1.1', '1.1 - 4.4', '2.2 - 6.0', '2.2 - 5.1',\n",
       "       '3.0 - 3.2', '4.0 - 7.1.1', '2.0.1 - 4.0.4', '2.0 - 2.3.4',\n",
       "       '3.0 - 4.4W', '2.3 - 4.3', '3.0 - 4.4', '4.0.3 - 4.4W',\n",
       "       '4.4 - 4.4W', '5.1 - 8.0', '5.1', '1.6 - 7.0', '2.2 - 4.1.1',\n",
       "       '3.0 - 4.0.4', '2.2 - 3.0', '2.3.3 - 8.0', '3.0 - 8.0',\n",
       "       '4.3 - 8.0', '2.2 - 8.0', '2.1 - 2.3.4', '5.0', '4.3 - 7.1.1',\n",
       "       '5.0 - 5.1', '2.1 - 4.2.2', '2.2 - 2.3.4', '1.6 - 2.3.4',\n",
       "       '1.6 - 4.1.1', '3.2 - 4.1.1', '4.0.3 - 5.0', '3.2 - 4.4W'],\n",
       "      dtype=object)"
      ]
     },
     "execution_count": 21,
     "metadata": {},
     "output_type": "execute_result"
    }
   ],
   "source": [
    "df['Minimum Android'].unique() # min version required >> organize? 1+, 2+? drop it?"
   ]
  },
  {
   "cell_type": "code",
   "execution_count": 22,
   "metadata": {
    "hidden": true
   },
   "outputs": [
    {
     "data": {
      "text/plain": [
       "1.000000e+03    197466\n",
       "1.000000e+02    176192\n",
       "1.000000e+04    157465\n",
       "1.000000e+01    102678\n",
       "5.000000e+02     82736\n",
       "1.000000e+05     80118\n",
       "5.000000e+03     79917\n",
       "5.000000e+01     61208\n",
       "5.000000e+04     51393\n",
       "1.000000e+00     28469\n",
       "1.000000e+06     27010\n",
       "5.000000e+00     25226\n",
       "5.000000e+05     20680\n",
       "0.000000e+00      8826\n",
       "5.000000e+06      5498\n",
       "1.000000e+07      5168\n",
       "5.000000e+07       695\n",
       "1.000000e+08       423\n",
       "5.000000e+08        54\n",
       "1.000000e+09        47\n",
       "5.000000e+09        12\n",
       "1.000000e+10         1\n",
       "Name: Minimum Installs, dtype: int64"
      ]
     },
     "execution_count": 22,
     "metadata": {},
     "output_type": "execute_result"
    }
   ],
   "source": [
    "df['Minimum Installs'].value_counts() # zusammenfassen? 5.000000e+06 group "
   ]
  },
  {
   "cell_type": "code",
   "execution_count": 23,
   "metadata": {
    "hidden": true
   },
   "outputs": [
    {
     "data": {
      "text/plain": [
       "1           8907\n",
       "0           8826\n",
       "2           7103\n",
       "6           6465\n",
       "3           6461\n",
       "            ... \n",
       "5986563        1\n",
       "1106036        1\n",
       "15745120       1\n",
       "1243191        1\n",
       "76325          1\n",
       "Name: Maximum Installs, Length: 206997, dtype: int64"
      ]
     },
     "execution_count": 23,
     "metadata": {},
     "output_type": "execute_result"
    }
   ],
   "source": [
    "df['Maximum Installs'].value_counts() # drop as its similar to installs"
   ]
  },
  {
   "cell_type": "markdown",
   "metadata": {
    "heading_collapsed": true
   },
   "source": [
    "### Data cleaning"
   ]
  },
  {
   "cell_type": "code",
   "execution_count": 24,
   "metadata": {
    "hidden": true
   },
   "outputs": [],
   "source": [
    "# category bis adventure, rest other\n",
    "# installs # remove + / ab 5mil+ zusammenfassen\n",
    "# min installs: zusammenfassen? 5.000000e+06 group \n",
    "# max installs drop\n",
    "# drop min android column df['Minimum Android']\n",
    "# size into integer, drop varies with device, remove m and k\n",
    "# Content rating: everyone and other\n",
    "# currency > all prices into one currency > drop currency // what is xxx filter for it and check what it is"
   ]
  },
  {
   "cell_type": "code",
   "execution_count": 25,
   "metadata": {
    "hidden": true
   },
   "outputs": [],
   "source": [
    "df_clean = df.copy()"
   ]
  },
  {
   "cell_type": "code",
   "execution_count": 26,
   "metadata": {
    "hidden": true
   },
   "outputs": [],
   "source": [
    "# Category\n",
    "df_clean['Category'] = df_clean['Category'].replace(to_replace =[\"Video Players & Editors\", 'Auto & Vehicles', 'Beauty', 'Racing', 'Role Playing', 'Trivia', 'House & Home', 'Board', 'Word', 'Card','Strategy', 'Events', 'Weather', 'Dating', 'Casino', 'Music', 'Libraries & Demo', 'Comics', 'Parenting'], value =\"Other\")"
   ]
  },
  {
   "cell_type": "code",
   "execution_count": 27,
   "metadata": {
    "hidden": true
   },
   "outputs": [],
   "source": [
    "# df_clean['Category'].value_counts()"
   ]
  },
  {
   "cell_type": "code",
   "execution_count": 28,
   "metadata": {
    "hidden": true
   },
   "outputs": [],
   "source": [
    "# Installs\n",
    "df_clean['Installs'] = df_clean['Installs'].str.replace(\"+\", \"\")"
   ]
  },
  {
   "cell_type": "code",
   "execution_count": 29,
   "metadata": {
    "hidden": true
   },
   "outputs": [],
   "source": [
    "df_clean['Installs'] = df_clean['Installs'].str.replace(\",\", \"\")"
   ]
  },
  {
   "cell_type": "code",
   "execution_count": 30,
   "metadata": {
    "hidden": true
   },
   "outputs": [],
   "source": [
    "df_clean['Installs'] = df_clean['Installs'].astype(int) "
   ]
  },
  {
   "cell_type": "code",
   "execution_count": 31,
   "metadata": {
    "hidden": true
   },
   "outputs": [],
   "source": [
    "df_clean['Installs'] = df_clean['Installs'].replace(to_replace = [5000000, 10000000,50000000, 100000000,500000000,1000000000, 5000000000, 10000000000], value = 5000000)"
   ]
  },
  {
   "cell_type": "code",
   "execution_count": 32,
   "metadata": {
    "hidden": true
   },
   "outputs": [],
   "source": [
    "# df_clean['Installs'].value_counts()"
   ]
  },
  {
   "cell_type": "code",
   "execution_count": 33,
   "metadata": {
    "hidden": true
   },
   "outputs": [],
   "source": [
    "# min installs\n",
    "df_clean['Minimum Installs'] = df_clean['Minimum Installs'].replace(to_replace = [1.000000e+07, 5.000000e+07, 1.000000e+08,5.000000e+08,1.000000e+09, 5.000000e+09, 1.000000e+10], value = 5.000000e+06)"
   ]
  },
  {
   "cell_type": "code",
   "execution_count": 34,
   "metadata": {
    "hidden": true
   },
   "outputs": [],
   "source": [
    "#df_clean['Minimum Installs'].value_counts()"
   ]
  },
  {
   "cell_type": "code",
   "execution_count": 35,
   "metadata": {
    "hidden": true
   },
   "outputs": [],
   "source": [
    "# max installs\n",
    "df_clean.drop(['Maximum Installs'], axis = 1, inplace = True)"
   ]
  },
  {
   "cell_type": "code",
   "execution_count": 36,
   "metadata": {
    "hidden": true
   },
   "outputs": [],
   "source": [
    "# min android\n",
    "df_clean.drop(['Minimum Android'], axis = 1, inplace = True)"
   ]
  },
  {
   "cell_type": "code",
   "execution_count": 37,
   "metadata": {
    "hidden": true
   },
   "outputs": [],
   "source": [
    "# Size\n",
    "df_clean = df_clean[df_clean.Size != 'Varies with device'].reset_index()"
   ]
  },
  {
   "cell_type": "code",
   "execution_count": 38,
   "metadata": {
    "hidden": true
   },
   "outputs": [],
   "source": [
    "df_clean.drop(['index'], axis = 1, inplace = True)"
   ]
  },
  {
   "cell_type": "code",
   "execution_count": 39,
   "metadata": {
    "hidden": true
   },
   "outputs": [],
   "source": [
    "# convert G, M in k\n",
    "def convert_to_kb(s):\n",
    "    if re.findall(r'M+', s):\n",
    "        s = s.replace(\"M\", \"\").replace(\",\", \".\")\n",
    "        s = float(s)*1000\n",
    "        return s\n",
    "    elif re.findall(r'G+', s):\n",
    "        s = s.replace(\"G\", \"\").replace(\",\", \".\")\n",
    "        s = float(s)*1000000\n",
    "        return s\n",
    "    elif re.findall(r'k+', s):\n",
    "        s = s.replace(\"k\", \"\").replace(\",\", \".\")\n",
    "        s = float(s)\n",
    "        return s\n",
    "    else:\n",
    "        return s"
   ]
  },
  {
   "cell_type": "code",
   "execution_count": 40,
   "metadata": {
    "hidden": true
   },
   "outputs": [],
   "source": [
    "df_clean['Size'] = df_clean['Size'].apply(convert_to_kb)"
   ]
  },
  {
   "cell_type": "code",
   "execution_count": 41,
   "metadata": {
    "hidden": true
   },
   "outputs": [],
   "source": [
    "df_clean = df_clean.rename(columns={\"Size\": \"Size_kb\"})"
   ]
  },
  {
   "cell_type": "code",
   "execution_count": 42,
   "metadata": {
    "hidden": true
   },
   "outputs": [],
   "source": [
    "# Content rating\n",
    "df_clean['Content Rating'] = df_clean['Content Rating'].replace(to_replace = ['Teen', 'Mature 17+', 'Everyone 10+', 'Unrated', 'Adults only 18+'], value = 'Other')"
   ]
  },
  {
   "cell_type": "code",
   "execution_count": 43,
   "metadata": {
    "hidden": true
   },
   "outputs": [
    {
     "data": {
      "text/plain": [
       "Everyone    937429\n",
       "Other       143159\n",
       "Name: Content Rating, dtype: int64"
      ]
     },
     "execution_count": 43,
     "metadata": {},
     "output_type": "execute_result"
    }
   ],
   "source": [
    "df_clean['Content Rating'].value_counts() "
   ]
  },
  {
   "cell_type": "code",
   "execution_count": 44,
   "metadata": {
    "hidden": true
   },
   "outputs": [],
   "source": [
    "# currency > all prices into one currency > drop currency and price\n",
    "# 'XXX' is thrown if the app is free and no currency is given. Some apps that are free still gave a currency, that's why there is different amount"
   ]
  },
  {
   "cell_type": "code",
   "execution_count": 45,
   "metadata": {
    "hidden": true
   },
   "outputs": [],
   "source": [
    "import requests\n",
    "  \n",
    "class Currency_convertor:\n",
    "    # empty dict to store the conversion rates\n",
    "    rates = {} \n",
    "    def __init__(self, url):\n",
    "        data = requests.get(url).json()\n",
    "  \n",
    "        # Extracting only the rates from the json data\n",
    "        self.rates = data[\"rates\"] \n",
    "  \n",
    "    # function to do a simple cross multiplication between \n",
    "    # the amount and the conversion rates\n",
    "    def convert(self, from_currency, to_currency, amount):\n",
    "        initial_amount = amount\n",
    "        \n",
    "        if from_currency == 'XXX':\n",
    "            return amount\n",
    "        \n",
    "        elif from_currency != 'EUR' :\n",
    "            amount = amount / self.rates[from_currency]\n",
    "        \n",
    "  \n",
    "        # limiting the precision to 2 decimal places\n",
    "        amount = round(amount * self.rates[to_currency], 2)\n",
    "        #print('{} {} = {} {}'.format(initial_amount, from_currency, amount, to_currency))\n",
    "        return amount\n",
    "  \n",
    "# Driver code\n",
    "if __name__ == \"__main__\":\n",
    "  \n",
    "    # YOUR_ACCESS_KEY = 'GET YOUR ACCESS KEY FROM fixer.io'\n",
    "    url = str.__add__('http://data.fixer.io/api/latest?access_key=', '8eaedbd2b6cc572528984ec10219e8b6')  \n",
    "    c = Currency_convertor(url)\n",
    "    from_country = df_clean['Currency'].to_list()\n",
    "    to_country = 'USD'\n",
    "    amount = df_clean['Price'].to_list()\n",
    "    \n",
    "    new_price = []\n",
    "    for i in range(len(amount)):\n",
    "        \n",
    "        new_price.append(c.convert(from_country[i], to_country, amount[i]))\n",
    "        "
   ]
  },
  {
   "cell_type": "code",
   "execution_count": 46,
   "metadata": {
    "hidden": true
   },
   "outputs": [],
   "source": [
    "df_clean['Price_USD'] = new_price"
   ]
  },
  {
   "cell_type": "code",
   "execution_count": 47,
   "metadata": {
    "hidden": true
   },
   "outputs": [],
   "source": [
    "df_clean.drop(['Price'], axis = 1, inplace = True)"
   ]
  },
  {
   "cell_type": "code",
   "execution_count": 48,
   "metadata": {
    "hidden": true
   },
   "outputs": [],
   "source": [
    "df_clean.drop(['Currency'], axis = 1, inplace = True)"
   ]
  },
  {
   "cell_type": "code",
   "execution_count": null,
   "metadata": {
    "hidden": true
   },
   "outputs": [],
   "source": []
  },
  {
   "cell_type": "markdown",
   "metadata": {},
   "source": [
    "### Datetime conversions"
   ]
  },
  {
   "cell_type": "code",
   "execution_count": 49,
   "metadata": {},
   "outputs": [],
   "source": [
    "# released/last updated into datetime\n",
    "df_clean['Released'] = pd.to_datetime(df_clean['Released'],infer_datetime_format=True, format='%b %d, %Y', errors='coerce')"
   ]
  },
  {
   "cell_type": "code",
   "execution_count": 50,
   "metadata": {},
   "outputs": [],
   "source": [
    "df_clean['Last Updated'] = pd.to_datetime(df_clean['Last Updated'],infer_datetime_format=True, format='%b %d, %Y', errors='coerce')"
   ]
  },
  {
   "cell_type": "code",
   "execution_count": 51,
   "metadata": {},
   "outputs": [
    {
     "name": "stdout",
     "output_type": "stream",
     "text": [
      "0          2838.0\n",
      "1          1036.0\n",
      "2          1900.0\n",
      "3          3437.0\n",
      "4          1699.0\n",
      "            ...  \n",
      "1080583     638.0\n",
      "1080584     541.0\n",
      "1080585    1116.0\n",
      "1080586    1247.0\n",
      "1080587    1435.0\n",
      "Name: App-age, Length: 1080588, dtype: float64\n"
     ]
    }
   ],
   "source": [
    "# new column App-age in Years\n",
    "now = pd.Timestamp('now')\n",
    "df_clean['Released'] = pd.to_datetime(df_clean['Released'], format=\"%Y-%m-%d %H:%M:%S\")    \n",
    "df_clean['Released'] = df_clean['Released'].where(df_clean['Released'] < now, df_clean['Released'] -  np.timedelta64(366, 'D'))   \n",
    "df_clean['App-age'] = (now - df_clean['Released']).astype('timedelta64[D]')   \n",
    "print(df_clean['App-age'])"
   ]
  },
  {
   "cell_type": "code",
   "execution_count": 52,
   "metadata": {},
   "outputs": [],
   "source": [
    "df_clean['App-age'] = df_clean['App-age']/365"
   ]
  },
  {
   "cell_type": "code",
   "execution_count": 53,
   "metadata": {},
   "outputs": [],
   "source": [
    "# date to ordinal Released/lastUpdated\n",
    "df_clean.dropna(subset=['Released'], inplace = True) # drop 751 na's"
   ]
  },
  {
   "cell_type": "code",
   "execution_count": 54,
   "metadata": {},
   "outputs": [],
   "source": [
    "def date_to_ordinal(d):\n",
    "    return d.toordinal()"
   ]
  },
  {
   "cell_type": "code",
   "execution_count": 55,
   "metadata": {},
   "outputs": [],
   "source": [
    "df_clean['Released'] = df_clean['Released'].apply(date_to_ordinal)"
   ]
  },
  {
   "cell_type": "code",
   "execution_count": 56,
   "metadata": {},
   "outputs": [],
   "source": [
    "df_clean['Last Updated'] = df_clean['Last Updated'].apply(date_to_ordinal)"
   ]
  },
  {
   "cell_type": "code",
   "execution_count": null,
   "metadata": {},
   "outputs": [],
   "source": []
  },
  {
   "cell_type": "markdown",
   "metadata": {},
   "source": [
    "# Data preprocessing for ML"
   ]
  },
  {
   "cell_type": "code",
   "execution_count": 57,
   "metadata": {},
   "outputs": [],
   "source": [
    "df_prep = df_clean.copy()"
   ]
  },
  {
   "cell_type": "code",
   "execution_count": 58,
   "metadata": {},
   "outputs": [],
   "source": [
    "# drop: App Name, App Id , Developer Id, Developer Website, Developer Email, Privacy Policy > not relevant\n",
    "df_prep.drop(['App Name', 'App Id', 'Developer Id', 'Developer Website', 'Developer Email', 'Privacy Policy'], axis = 1, inplace = True)"
   ]
  },
  {
   "cell_type": "code",
   "execution_count": 59,
   "metadata": {},
   "outputs": [],
   "source": [
    "df_prep.to_csv('../Data/data_vis.csv')"
   ]
  },
  {
   "cell_type": "code",
   "execution_count": 60,
   "metadata": {},
   "outputs": [
    {
     "name": "stdout",
     "output_type": "stream",
     "text": [
      "<class 'pandas.core.frame.DataFrame'>\n",
      "Int64Index: 1079837 entries, 0 to 1080587\n",
      "Data columns (total 15 columns):\n",
      " #   Column            Non-Null Count    Dtype  \n",
      "---  ------            --------------    -----  \n",
      " 0   Category          1079837 non-null  object \n",
      " 1   Rating            1079837 non-null  float64\n",
      " 2   Rating Count      1079837 non-null  float64\n",
      " 3   Installs          1079837 non-null  int64  \n",
      " 4   Minimum Installs  1079837 non-null  float64\n",
      " 5   Free              1079837 non-null  bool   \n",
      " 6   Size_kb           1079837 non-null  float64\n",
      " 7   Released          1079837 non-null  int64  \n",
      " 8   Last Updated      1079837 non-null  int64  \n",
      " 9   Content Rating    1079837 non-null  object \n",
      " 10  Ad Supported      1079837 non-null  bool   \n",
      " 11  In App Purchases  1079837 non-null  bool   \n",
      " 12  Editors Choice    1079837 non-null  bool   \n",
      " 13  Price_USD         1079837 non-null  float64\n",
      " 14  App-age           1079837 non-null  float64\n",
      "dtypes: bool(4), float64(6), int64(3), object(2)\n",
      "memory usage: 103.0+ MB\n"
     ]
    }
   ],
   "source": [
    "df_prep.info()"
   ]
  },
  {
   "cell_type": "markdown",
   "metadata": {},
   "source": [
    "## Correlations/Collinearity"
   ]
  },
  {
   "cell_type": "code",
   "execution_count": 61,
   "metadata": {},
   "outputs": [],
   "source": [
    "# Data prepocessing for machine learning dataset:\n",
    "\n",
    "# CORRELATIONS: drop correlations/heatmap\n",
    "# OUTLIERS: check\n",
    "# DUMMIES: 20,21,22, 8 bool into 1 and 0\n",
    "# object columns into dummies? which ones?\n"
   ]
  },
  {
   "cell_type": "code",
   "execution_count": 62,
   "metadata": {},
   "outputs": [
    {
     "data": {
      "image/png": "[encoded data removed]",
      "text/plain": [
       "<Figure size 1080x1080 with 2 Axes>"
      ]
     },
     "metadata": {
      "needs_background": "light"
     },
     "output_type": "display_data"
    }
   ],
   "source": [
    "# High collinearity\n",
    "heatmap = df_prep.select_dtypes(['int64', 'float64']) # only numerical\n",
    "\n",
    "c = df_prep.corr()\n",
    "fig_dims = (15, 15)\n",
    "mask = np.triu(np.ones_like(c, dtype=bool))\n",
    "fig, ax = plt.subplots(figsize=fig_dims)\n",
    "sns.heatmap(c, annot=True,ax = ax, mask=mask,cmap=\"YlGnBu\", linewidths=.5)\n",
    "plt.show()"
   ]
  },
  {
   "cell_type": "code",
   "execution_count": 63,
   "metadata": {},
   "outputs": [],
   "source": [
    "# drop min installs, released \n",
    "df_prep.drop(['Minimum Installs', 'Released'], axis = 1, inplace = True)"
   ]
  },
  {
   "cell_type": "code",
   "execution_count": 64,
   "metadata": {},
   "outputs": [],
   "source": [
    "X = df_prep.drop(columns = 'Rating')\n",
    "y = df_prep['Rating']"
   ]
  },
  {
   "cell_type": "code",
   "execution_count": 65,
   "metadata": {},
   "outputs": [
    {
     "data": {
      "text/plain": [
       "Rating Count        0.023285\n",
       "Installs            0.139940\n",
       "Free                0.038162\n",
       "Size_kb             0.086408\n",
       "Last Updated       -0.043365\n",
       "Ad Supported        0.097538\n",
       "In App Purchases    0.181120\n",
       "Editors Choice      0.021162\n",
       "Price_USD          -0.017956\n",
       "App-age             0.294107\n",
       "dtype: float64"
      ]
     },
     "execution_count": 65,
     "metadata": {},
     "output_type": "execute_result"
    }
   ],
   "source": [
    "X.corrwith(y) # all superlow correlation. what to do?"
   ]
  },
  {
   "cell_type": "markdown",
   "metadata": {},
   "source": [
    "## Outliers"
   ]
  },
  {
   "cell_type": "code",
   "execution_count": 66,
   "metadata": {},
   "outputs": [],
   "source": [
    "# find outliers >> works ONLY on numerical\n",
    "import scipy.stats as stats\n",
    "z_scores = stats.zscore(df_prep.select_dtypes(['int64', 'float64']))\n",
    "\n",
    "abs_z_scores = np.abs(z_scores)\n",
    "filtered_entries = (abs_z_scores < 3).all(axis=1)\n",
    "df_prep = df_prep[filtered_entries]"
   ]
  },
  {
   "cell_type": "markdown",
   "metadata": {},
   "source": [
    "## Dummies"
   ]
  },
  {
   "cell_type": "code",
   "execution_count": 67,
   "metadata": {},
   "outputs": [],
   "source": [
    "# dummies for category and content rating"
   ]
  },
  {
   "cell_type": "code",
   "execution_count": 68,
   "metadata": {},
   "outputs": [],
   "source": [
    "dummy_df = pd.get_dummies(df_prep[['Category','Content Rating']])"
   ]
  },
  {
   "cell_type": "code",
   "execution_count": 69,
   "metadata": {},
   "outputs": [],
   "source": [
    "df_prep = pd.concat([df_prep, dummy_df], axis=1)"
   ]
  },
  {
   "cell_type": "code",
   "execution_count": 70,
   "metadata": {},
   "outputs": [],
   "source": [
    "df_prep.drop(['Category','Content Rating'], axis = 1, inplace = True)"
   ]
  },
  {
   "cell_type": "code",
   "execution_count": 71,
   "metadata": {},
   "outputs": [],
   "source": [
    "# bools into 1 and 0 > Ad Supported, In App Purchases, Editors Choice, Free"
   ]
  },
  {
   "cell_type": "code",
   "execution_count": 72,
   "metadata": {},
   "outputs": [
    {
     "data": {
      "text/plain": [
       "True     670242\n",
       "False    341734\n",
       "Name: Ad Supported, dtype: int64"
      ]
     },
     "execution_count": 72,
     "metadata": {},
     "output_type": "execute_result"
    }
   ],
   "source": [
    "df_prep['Ad Supported'].value_counts() #get dummies (True 1/ False 0)"
   ]
  },
  {
   "cell_type": "code",
   "execution_count": 73,
   "metadata": {},
   "outputs": [],
   "source": [
    "df_prep['Ad Supported'] = df_prep['Ad Supported'].replace(True, 1).replace(False, 0)"
   ]
  },
  {
   "cell_type": "code",
   "execution_count": 74,
   "metadata": {},
   "outputs": [
    {
     "data": {
      "text/plain": [
       "False    917160\n",
       "True      94816\n",
       "Name: In App Purchases, dtype: int64"
      ]
     },
     "execution_count": 74,
     "metadata": {},
     "output_type": "execute_result"
    }
   ],
   "source": [
    "df_prep['In App Purchases'].value_counts()"
   ]
  },
  {
   "cell_type": "code",
   "execution_count": 75,
   "metadata": {},
   "outputs": [],
   "source": [
    "df_prep['In App Purchases'] = df_prep['In App Purchases'].replace(True, 1).replace(False, 0)"
   ]
  },
  {
   "cell_type": "code",
   "execution_count": 76,
   "metadata": {},
   "outputs": [
    {
     "data": {
      "text/plain": [
       "False    1011798\n",
       "True         178\n",
       "Name: Editors Choice, dtype: int64"
      ]
     },
     "execution_count": 76,
     "metadata": {},
     "output_type": "execute_result"
    }
   ],
   "source": [
    "df_prep['Editors Choice'].value_counts()"
   ]
  },
  {
   "cell_type": "code",
   "execution_count": 77,
   "metadata": {},
   "outputs": [],
   "source": [
    "# unbalanced, drop Editors Choice\n",
    "df_prep.drop(['Editors Choice'], axis = 1, inplace = True)"
   ]
  },
  {
   "cell_type": "code",
   "execution_count": 78,
   "metadata": {},
   "outputs": [
    {
     "data": {
      "text/plain": [
       "True     978814\n",
       "False     33162\n",
       "Name: Free, dtype: int64"
      ]
     },
     "execution_count": 78,
     "metadata": {},
     "output_type": "execute_result"
    }
   ],
   "source": [
    "df_prep['Free'].value_counts() # keep because important"
   ]
  },
  {
   "cell_type": "code",
   "execution_count": 79,
   "metadata": {},
   "outputs": [],
   "source": [
    "df_prep['Free'] = df_prep['Free'].replace(True, 1).replace(False, 0)"
   ]
  },
  {
   "cell_type": "code",
   "execution_count": 80,
   "metadata": {},
   "outputs": [
    {
     "name": "stdout",
     "output_type": "stream",
     "text": [
      "<class 'pandas.core.frame.DataFrame'>\n",
      "Int64Index: 1011976 entries, 0 to 1080587\n",
      "Data columns (total 42 columns):\n",
      " #   Column                      Non-Null Count    Dtype  \n",
      "---  ------                      --------------    -----  \n",
      " 0   Rating                      1011976 non-null  float64\n",
      " 1   Rating Count                1011976 non-null  float64\n",
      " 2   Installs                    1011976 non-null  int64  \n",
      " 3   Free                        1011976 non-null  float64\n",
      " 4   Size_kb                     1011976 non-null  float64\n",
      " 5   Last Updated                1011976 non-null  int64  \n",
      " 6   Ad Supported                1011976 non-null  float64\n",
      " 7   In App Purchases            1011976 non-null  float64\n",
      " 8   Price_USD                   1011976 non-null  float64\n",
      " 9   App-age                     1011976 non-null  float64\n",
      " 10  Category_Action             1011976 non-null  uint8  \n",
      " 11  Category_Adventure          1011976 non-null  uint8  \n",
      " 12  Category_Arcade             1011976 non-null  uint8  \n",
      " 13  Category_Art & Design       1011976 non-null  uint8  \n",
      " 14  Category_Books & Reference  1011976 non-null  uint8  \n",
      " 15  Category_Business           1011976 non-null  uint8  \n",
      " 16  Category_Casual             1011976 non-null  uint8  \n",
      " 17  Category_Communication      1011976 non-null  uint8  \n",
      " 18  Category_Education          1011976 non-null  uint8  \n",
      " 19  Category_Educational        1011976 non-null  uint8  \n",
      " 20  Category_Entertainment      1011976 non-null  uint8  \n",
      " 21  Category_Finance            1011976 non-null  uint8  \n",
      " 22  Category_Food & Drink       1011976 non-null  uint8  \n",
      " 23  Category_Health & Fitness   1011976 non-null  uint8  \n",
      " 24  Category_Lifestyle          1011976 non-null  uint8  \n",
      " 25  Category_Maps & Navigation  1011976 non-null  uint8  \n",
      " 26  Category_Medical            1011976 non-null  uint8  \n",
      " 27  Category_Music & Audio      1011976 non-null  uint8  \n",
      " 28  Category_News & Magazines   1011976 non-null  uint8  \n",
      " 29  Category_Other              1011976 non-null  uint8  \n",
      " 30  Category_Personalization    1011976 non-null  uint8  \n",
      " 31  Category_Photography        1011976 non-null  uint8  \n",
      " 32  Category_Productivity       1011976 non-null  uint8  \n",
      " 33  Category_Puzzle             1011976 non-null  uint8  \n",
      " 34  Category_Shopping           1011976 non-null  uint8  \n",
      " 35  Category_Simulation         1011976 non-null  uint8  \n",
      " 36  Category_Social             1011976 non-null  uint8  \n",
      " 37  Category_Sports             1011976 non-null  uint8  \n",
      " 38  Category_Tools              1011976 non-null  uint8  \n",
      " 39  Category_Travel & Local     1011976 non-null  uint8  \n",
      " 40  Content Rating_Everyone     1011976 non-null  uint8  \n",
      " 41  Content Rating_Other        1011976 non-null  uint8  \n",
      "dtypes: float64(8), int64(2), uint8(32)\n",
      "memory usage: 115.8 MB\n"
     ]
    }
   ],
   "source": [
    "df_prep.info()"
   ]
  },
  {
   "cell_type": "markdown",
   "metadata": {},
   "source": [
    "## Saving data"
   ]
  },
  {
   "cell_type": "code",
   "execution_count": 81,
   "metadata": {},
   "outputs": [],
   "source": [
    "df_prep.to_csv('../Data/data_final.csv')"
   ]
  },
  {
   "cell_type": "code",
   "execution_count": null,
   "metadata": {},
   "outputs": [],
   "source": []
  }
 ],
 "metadata": {
  "kernelspec": {
   "display_name": "Python 3",
   "language": "python",
   "name": "python3"
  },
  "language_info": {
   "codemirror_mode": {
    "name": "ipython",
    "version": 3
   },
   "file_extension": ".py",
   "mimetype": "text/x-python",
   "name": "python",
   "nbconvert_exporter": "python",
   "pygments_lexer": "ipython3",
   "version": "3.8.5"
  },
  "toc": {
   "base_numbering": 1,
   "nav_menu": {},
   "number_sections": true,
   "sideBar": true,
   "skip_h1_title": false,
   "title_cell": "Table of Contents",
   "title_sidebar": "Contents",
   "toc_cell": false,
   "toc_position": {},
   "toc_section_display": true,
   "toc_window_display": false
  },
  "varInspector": {
   "cols": {
    "lenName": 16,
    "lenType": 16,
    "lenVar": 40
   },
   "kernels_config": {
    "python": {
     "delete_cmd_postfix": "",
     "delete_cmd_prefix": "del ",
     "library": "var_list.py",
     "varRefreshCmd": "print(var_dic_list())"
    },
    "r": {
     "delete_cmd_postfix": ") ",
     "delete_cmd_prefix": "rm(",
     "library": "var_list.r",
     "varRefreshCmd": "cat(var_dic_list()) "
    }
   },
   "types_to_exclude": [
    "module",
    "function",
    "builtin_function_or_method",
    "instance",
    "_Feature"
   ],
   "window_display": false
  }
 },
 "nbformat": 4,
 "nbformat_minor": 4
}
