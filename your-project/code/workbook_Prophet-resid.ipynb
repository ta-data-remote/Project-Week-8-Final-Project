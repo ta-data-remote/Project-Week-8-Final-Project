{
 "cells": [
  {
   "cell_type": "markdown",
   "id": "1b55cf17",
   "metadata": {
    "toc": true
   },
   "source": [
    "<h1>Table of Contents<span class=\"tocSkip\"></span></h1>\n",
    "<div class=\"toc\"><ul class=\"toc-item\"><li><span><a href=\"#Inspection\" data-toc-modified-id=\"Inspection-1\"><span class=\"toc-item-num\">1&nbsp;&nbsp;</span>Inspection</a></span><ul class=\"toc-item\"><li><span><a href=\"#Libraries\" data-toc-modified-id=\"Libraries-1.1\"><span class=\"toc-item-num\">1.1&nbsp;&nbsp;</span>Libraries</a></span></li><li><span><a href=\"#CSVs-and-Preprocessing\" data-toc-modified-id=\"CSVs-and-Preprocessing-1.2\"><span class=\"toc-item-num\">1.2&nbsp;&nbsp;</span>CSVs and Preprocessing</a></span></li><li><span><a href=\"#Holidays\" data-toc-modified-id=\"Holidays-1.3\"><span class=\"toc-item-num\">1.3&nbsp;&nbsp;</span>Holidays</a></span><ul class=\"toc-item\"><li><span><a href=\"#Sales\" data-toc-modified-id=\"Sales-1.3.1\"><span class=\"toc-item-num\">1.3.1&nbsp;&nbsp;</span>Sales</a></span></li><li><span><a href=\"#Pre_R\" data-toc-modified-id=\"Pre_R-1.3.2\"><span class=\"toc-item-num\">1.3.2&nbsp;&nbsp;</span>Pre_R</a></span></li></ul></li></ul></li><li><span><a href=\"#Functions\" data-toc-modified-id=\"Functions-2\"><span class=\"toc-item-num\">2&nbsp;&nbsp;</span>Functions</a></span></li><li><span><a href=\"#Residuals\" data-toc-modified-id=\"Residuals-3\"><span class=\"toc-item-num\">3&nbsp;&nbsp;</span>Residuals</a></span><ul class=\"toc-item\"><li><span><a href=\"#AutoReg\" data-toc-modified-id=\"AutoReg-3.1\"><span class=\"toc-item-num\">3.1&nbsp;&nbsp;</span>AutoReg</a></span></li></ul></li><li><span><a href=\"#Final-models\" data-toc-modified-id=\"Final-models-4\"><span class=\"toc-item-num\">4&nbsp;&nbsp;</span>Final models</a></span></li></ul></div>"
   ]
  },
  {
   "cell_type": "markdown",
   "id": "b8e67fe4",
   "metadata": {
    "ExecuteTime": {
     "end_time": "2021-05-16T08:39:15.121269Z",
     "start_time": "2021-05-16T08:39:15.116319Z"
    }
   },
   "source": [
    "# Inspection"
   ]
  },
  {
   "cell_type": "markdown",
   "id": "f6137334",
   "metadata": {},
   "source": [
    "## Libraries"
   ]
  },
  {
   "cell_type": "code",
   "execution_count": 2,
   "id": "5663c18a",
   "metadata": {
    "ExecuteTime": {
     "end_time": "2021-05-18T09:54:16.886715Z",
     "start_time": "2021-05-18T09:54:15.321109Z"
    }
   },
   "outputs": [],
   "source": [
    "import pandas as pd\n",
    "import numpy as np\n",
    "import matplotlib.pyplot as plt\n",
    "%matplotlib inline\n",
    "from matplotlib import rcParams\n",
    "from datetime import datetime\n",
    "rcParams[\"figure.figsize\"] = 10, 6\n",
    "\n",
    "import warnings\n",
    "warnings.filterwarnings(\"ignore\")\n",
    "\n"
   ]
  },
  {
   "cell_type": "markdown",
   "id": "b8918c13",
   "metadata": {},
   "source": [
    "## CSVs and Preprocessing"
   ]
  },
  {
   "cell_type": "code",
   "execution_count": 3,
   "id": "6dfbdf28",
   "metadata": {
    "ExecuteTime": {
     "end_time": "2021-05-18T09:54:16.892820Z",
     "start_time": "2021-05-18T09:54:16.889947Z"
    }
   },
   "outputs": [],
   "source": [
    "#stores = pd.read_csv(\"../data/store.csv\", low_memory=False)\n",
    "#stores.head()"
   ]
  },
  {
   "cell_type": "code",
   "execution_count": 4,
   "id": "1eb82d59",
   "metadata": {
    "ExecuteTime": {
     "end_time": "2021-05-18T09:54:18.400822Z",
     "start_time": "2021-05-18T09:54:16.908337Z"
    }
   },
   "outputs": [
    {
     "name": "stdout",
     "output_type": "stream",
     "text": [
      "<class 'pandas.core.frame.DataFrame'>\n",
      "RangeIndex: 1017209 entries, 0 to 1017208\n",
      "Data columns (total 9 columns):\n",
      " #   Column         Non-Null Count    Dtype         \n",
      "---  ------         --------------    -----         \n",
      " 0   Store          1017209 non-null  int64         \n",
      " 1   DayOfWeek      1017209 non-null  int64         \n",
      " 2   Date           1017209 non-null  datetime64[ns]\n",
      " 3   Sales          1017209 non-null  int64         \n",
      " 4   Customers      1017209 non-null  int64         \n",
      " 5   Open           1017209 non-null  int64         \n",
      " 6   Promo          1017209 non-null  int64         \n",
      " 7   StateHoliday   1017209 non-null  object        \n",
      " 8   SchoolHoliday  1017209 non-null  int64         \n",
      "dtypes: datetime64[ns](1), int64(7), object(1)\n",
      "memory usage: 69.8+ MB\n"
     ]
    }
   ],
   "source": [
    "train = pd.read_csv(\"../data/train.csv\", low_memory=False)\n",
    "train['Date'] = pd.to_datetime(train['Date'])\n",
    "#train.set_index('Date', inplace=True)\n",
    "train.info()"
   ]
  },
  {
   "cell_type": "code",
   "execution_count": 5,
   "id": "1ec20082",
   "metadata": {
    "ExecuteTime": {
     "end_time": "2021-05-18T09:54:18.415647Z",
     "start_time": "2021-05-18T09:54:18.404932Z"
    }
   },
   "outputs": [
    {
     "data": {
      "text/plain": [
       "Index(['Store', 'DayOfWeek', 'Date', 'Sales', 'Customers', 'Open', 'Promo',\n",
       "       'StateHoliday', 'SchoolHoliday'],\n",
       "      dtype='object')"
      ]
     },
     "execution_count": 5,
     "metadata": {},
     "output_type": "execute_result"
    }
   ],
   "source": [
    "train.columns"
   ]
  },
  {
   "cell_type": "code",
   "execution_count": 6,
   "id": "b09e3312",
   "metadata": {
    "ExecuteTime": {
     "end_time": "2021-05-18T09:54:18.686202Z",
     "start_time": "2021-05-18T09:54:18.420970Z"
    }
   },
   "outputs": [
    {
     "data": {
      "text/html": [
       "<div>\n",
       "<style scoped>\n",
       "    .dataframe tbody tr th:only-of-type {\n",
       "        vertical-align: middle;\n",
       "    }\n",
       "\n",
       "    .dataframe tbody tr th {\n",
       "        vertical-align: top;\n",
       "    }\n",
       "\n",
       "    .dataframe thead th {\n",
       "        text-align: right;\n",
       "    }\n",
       "</style>\n",
       "<table border=\"1\" class=\"dataframe\">\n",
       "  <thead>\n",
       "    <tr style=\"text-align: right;\">\n",
       "      <th></th>\n",
       "      <th>ds</th>\n",
       "      <th>y</th>\n",
       "    </tr>\n",
       "  </thead>\n",
       "  <tbody>\n",
       "    <tr>\n",
       "      <th>0</th>\n",
       "      <td>2013-01-01</td>\n",
       "      <td>97235</td>\n",
       "    </tr>\n",
       "    <tr>\n",
       "      <th>1</th>\n",
       "      <td>2013-01-02</td>\n",
       "      <td>6949829</td>\n",
       "    </tr>\n",
       "    <tr>\n",
       "      <th>2</th>\n",
       "      <td>2013-01-03</td>\n",
       "      <td>6347820</td>\n",
       "    </tr>\n",
       "    <tr>\n",
       "      <th>3</th>\n",
       "      <td>2013-01-04</td>\n",
       "      <td>6638954</td>\n",
       "    </tr>\n",
       "    <tr>\n",
       "      <th>4</th>\n",
       "      <td>2013-01-05</td>\n",
       "      <td>5951593</td>\n",
       "    </tr>\n",
       "  </tbody>\n",
       "</table>\n",
       "</div>"
      ],
      "text/plain": [
       "          ds        y\n",
       "0 2013-01-01    97235\n",
       "1 2013-01-02  6949829\n",
       "2 2013-01-03  6347820\n",
       "3 2013-01-04  6638954\n",
       "4 2013-01-05  5951593"
      ]
     },
     "execution_count": 6,
     "metadata": {},
     "output_type": "execute_result"
    }
   ],
   "source": [
    "#creating timeseries of date\n",
    "\n",
    "train = train.groupby('Date').sum()\n",
    "#sales = sales.to_frame()\n",
    "train.reset_index(inplace = True)\n",
    "sales = train.drop(columns = ['Store', 'DayOfWeek', 'Customers', 'Open', 'Promo',\n",
    "       'SchoolHoliday'])\n",
    "\n",
    "sales.columns=['ds','y'] \n",
    "sales.head()"
   ]
  },
  {
   "cell_type": "code",
   "execution_count": 7,
   "id": "90f14bd5",
   "metadata": {
    "ExecuteTime": {
     "end_time": "2021-05-18T09:54:18.714729Z",
     "start_time": "2021-05-18T09:54:18.689340Z"
    },
    "scrolled": true
   },
   "outputs": [
    {
     "data": {
      "text/html": [
       "<div>\n",
       "<style scoped>\n",
       "    .dataframe tbody tr th:only-of-type {\n",
       "        vertical-align: middle;\n",
       "    }\n",
       "\n",
       "    .dataframe tbody tr th {\n",
       "        vertical-align: top;\n",
       "    }\n",
       "\n",
       "    .dataframe thead th {\n",
       "        text-align: right;\n",
       "    }\n",
       "</style>\n",
       "<table border=\"1\" class=\"dataframe\">\n",
       "  <thead>\n",
       "    <tr style=\"text-align: right;\">\n",
       "      <th></th>\n",
       "      <th>ds</th>\n",
       "      <th>y</th>\n",
       "    </tr>\n",
       "  </thead>\n",
       "  <tbody>\n",
       "    <tr>\n",
       "      <th>0</th>\n",
       "      <td>2013-01-01</td>\n",
       "      <td>180132207</td>\n",
       "    </tr>\n",
       "    <tr>\n",
       "      <th>1</th>\n",
       "      <td>2013-02-01</td>\n",
       "      <td>171534275</td>\n",
       "    </tr>\n",
       "    <tr>\n",
       "      <th>2</th>\n",
       "      <td>2013-03-01</td>\n",
       "      <td>201180369</td>\n",
       "    </tr>\n",
       "    <tr>\n",
       "      <th>3</th>\n",
       "      <td>2013-04-01</td>\n",
       "      <td>183431432</td>\n",
       "    </tr>\n",
       "    <tr>\n",
       "      <th>4</th>\n",
       "      <td>2013-05-01</td>\n",
       "      <td>185411063</td>\n",
       "    </tr>\n",
       "  </tbody>\n",
       "</table>\n",
       "</div>"
      ],
      "text/plain": [
       "          ds          y\n",
       "0 2013-01-01  180132207\n",
       "1 2013-02-01  171534275\n",
       "2 2013-03-01  201180369\n",
       "3 2013-04-01  183431432\n",
       "4 2013-05-01  185411063"
      ]
     },
     "execution_count": 7,
     "metadata": {},
     "output_type": "execute_result"
    }
   ],
   "source": [
    "sales_m = sales.copy()\n",
    "\n",
    "sales_m['ds'] = sales_m['ds'].apply(lambda x: x.strftime('%Y-%m'))\n",
    "sales_m['ds'] = pd.to_datetime(sales_m['ds'])\n",
    "\n",
    "sales_m = sales_m.groupby('ds').sum()\n",
    "sales_m.reset_index(inplace = True)\n",
    "\n",
    "sales_m.columns=['ds','y'] \n",
    "sales_m.head()\n"
   ]
  },
  {
   "cell_type": "code",
   "execution_count": 8,
   "id": "1411531f",
   "metadata": {
    "ExecuteTime": {
     "end_time": "2021-05-18T09:54:18.819031Z",
     "start_time": "2021-05-18T09:54:18.718671Z"
    }
   },
   "outputs": [
    {
     "data": {
      "text/html": [
       "<div>\n",
       "<style scoped>\n",
       "    .dataframe tbody tr th:only-of-type {\n",
       "        vertical-align: middle;\n",
       "    }\n",
       "\n",
       "    .dataframe tbody tr th {\n",
       "        vertical-align: top;\n",
       "    }\n",
       "\n",
       "    .dataframe thead th {\n",
       "        text-align: right;\n",
       "    }\n",
       "</style>\n",
       "<table border=\"1\" class=\"dataframe\">\n",
       "  <thead>\n",
       "    <tr style=\"text-align: right;\">\n",
       "      <th></th>\n",
       "      <th>ds</th>\n",
       "      <th>y</th>\n",
       "    </tr>\n",
       "  </thead>\n",
       "  <tbody>\n",
       "    <tr>\n",
       "      <th>0</th>\n",
       "      <td>2013-01-01</td>\n",
       "      <td>180132207</td>\n",
       "    </tr>\n",
       "    <tr>\n",
       "      <th>1</th>\n",
       "      <td>2013-02-01</td>\n",
       "      <td>171534275</td>\n",
       "    </tr>\n",
       "    <tr>\n",
       "      <th>2</th>\n",
       "      <td>2013-03-01</td>\n",
       "      <td>201180369</td>\n",
       "    </tr>\n",
       "    <tr>\n",
       "      <th>3</th>\n",
       "      <td>2013-04-01</td>\n",
       "      <td>183431432</td>\n",
       "    </tr>\n",
       "    <tr>\n",
       "      <th>4</th>\n",
       "      <td>2013-05-01</td>\n",
       "      <td>185411063</td>\n",
       "    </tr>\n",
       "    <tr>\n",
       "      <th>5</th>\n",
       "      <td>2013-06-01</td>\n",
       "      <td>180702351</td>\n",
       "    </tr>\n",
       "    <tr>\n",
       "      <th>6</th>\n",
       "      <td>2013-07-01</td>\n",
       "      <td>208843882</td>\n",
       "    </tr>\n",
       "    <tr>\n",
       "      <th>7</th>\n",
       "      <td>2013-08-01</td>\n",
       "      <td>198042727</td>\n",
       "    </tr>\n",
       "    <tr>\n",
       "      <th>8</th>\n",
       "      <td>2013-09-01</td>\n",
       "      <td>178053963</td>\n",
       "    </tr>\n",
       "    <tr>\n",
       "      <th>9</th>\n",
       "      <td>2013-10-01</td>\n",
       "      <td>187662330</td>\n",
       "    </tr>\n",
       "    <tr>\n",
       "      <th>10</th>\n",
       "      <td>2013-11-01</td>\n",
       "      <td>196170924</td>\n",
       "    </tr>\n",
       "    <tr>\n",
       "      <th>11</th>\n",
       "      <td>2013-12-01</td>\n",
       "      <td>231710561</td>\n",
       "    </tr>\n",
       "    <tr>\n",
       "      <th>12</th>\n",
       "      <td>2014-01-01</td>\n",
       "      <td>187752787</td>\n",
       "    </tr>\n",
       "    <tr>\n",
       "      <th>13</th>\n",
       "      <td>2014-02-01</td>\n",
       "      <td>178924677</td>\n",
       "    </tr>\n",
       "    <tr>\n",
       "      <th>14</th>\n",
       "      <td>2014-03-01</td>\n",
       "      <td>193019854</td>\n",
       "    </tr>\n",
       "    <tr>\n",
       "      <th>15</th>\n",
       "      <td>2014-04-01</td>\n",
       "      <td>194544977</td>\n",
       "    </tr>\n",
       "    <tr>\n",
       "      <th>16</th>\n",
       "      <td>2014-05-01</td>\n",
       "      <td>194693257</td>\n",
       "    </tr>\n",
       "    <tr>\n",
       "      <th>17</th>\n",
       "      <td>2014-06-01</td>\n",
       "      <td>190047051</td>\n",
       "    </tr>\n",
       "  </tbody>\n",
       "</table>\n",
       "</div>"
      ],
      "text/plain": [
       "           ds          y\n",
       "0  2013-01-01  180132207\n",
       "1  2013-02-01  171534275\n",
       "2  2013-03-01  201180369\n",
       "3  2013-04-01  183431432\n",
       "4  2013-05-01  185411063\n",
       "5  2013-06-01  180702351\n",
       "6  2013-07-01  208843882\n",
       "7  2013-08-01  198042727\n",
       "8  2013-09-01  178053963\n",
       "9  2013-10-01  187662330\n",
       "10 2013-11-01  196170924\n",
       "11 2013-12-01  231710561\n",
       "12 2014-01-01  187752787\n",
       "13 2014-02-01  178924677\n",
       "14 2014-03-01  193019854\n",
       "15 2014-04-01  194544977\n",
       "16 2014-05-01  194693257\n",
       "17 2014-06-01  190047051"
      ]
     },
     "execution_count": 8,
     "metadata": {},
     "output_type": "execute_result"
    }
   ],
   "source": [
    "indexed_sales_m = sales_m.set_index('ds')\n",
    "Pre_R_m = indexed_sales_m.loc['2012-12-30':'2014-06-30']\n",
    "Pre_R_m.reset_index(inplace = True)\n",
    "Pre_R_m\n"
   ]
  },
  {
   "cell_type": "code",
   "execution_count": 9,
   "id": "defe97ff",
   "metadata": {
    "ExecuteTime": {
     "end_time": "2021-05-18T09:54:18.861213Z",
     "start_time": "2021-05-18T09:54:18.827418Z"
    }
   },
   "outputs": [
    {
     "data": {
      "text/html": [
       "<div>\n",
       "<style scoped>\n",
       "    .dataframe tbody tr th:only-of-type {\n",
       "        vertical-align: middle;\n",
       "    }\n",
       "\n",
       "    .dataframe tbody tr th {\n",
       "        vertical-align: top;\n",
       "    }\n",
       "\n",
       "    .dataframe thead th {\n",
       "        text-align: right;\n",
       "    }\n",
       "</style>\n",
       "<table border=\"1\" class=\"dataframe\">\n",
       "  <thead>\n",
       "    <tr style=\"text-align: right;\">\n",
       "      <th></th>\n",
       "      <th>ds</th>\n",
       "      <th>y</th>\n",
       "    </tr>\n",
       "  </thead>\n",
       "  <tbody>\n",
       "    <tr>\n",
       "      <th>0</th>\n",
       "      <td>2013-01-01</td>\n",
       "      <td>97235</td>\n",
       "    </tr>\n",
       "    <tr>\n",
       "      <th>1</th>\n",
       "      <td>2013-01-02</td>\n",
       "      <td>6949829</td>\n",
       "    </tr>\n",
       "    <tr>\n",
       "      <th>2</th>\n",
       "      <td>2013-01-03</td>\n",
       "      <td>6347820</td>\n",
       "    </tr>\n",
       "    <tr>\n",
       "      <th>3</th>\n",
       "      <td>2013-01-04</td>\n",
       "      <td>6638954</td>\n",
       "    </tr>\n",
       "    <tr>\n",
       "      <th>4</th>\n",
       "      <td>2013-01-05</td>\n",
       "      <td>5951593</td>\n",
       "    </tr>\n",
       "    <tr>\n",
       "      <th>...</th>\n",
       "      <td>...</td>\n",
       "      <td>...</td>\n",
       "    </tr>\n",
       "    <tr>\n",
       "      <th>541</th>\n",
       "      <td>2014-06-26</td>\n",
       "      <td>5802491</td>\n",
       "    </tr>\n",
       "    <tr>\n",
       "      <th>542</th>\n",
       "      <td>2014-06-27</td>\n",
       "      <td>6910940</td>\n",
       "    </tr>\n",
       "    <tr>\n",
       "      <th>543</th>\n",
       "      <td>2014-06-28</td>\n",
       "      <td>6586535</td>\n",
       "    </tr>\n",
       "    <tr>\n",
       "      <th>544</th>\n",
       "      <td>2014-06-29</td>\n",
       "      <td>257513</td>\n",
       "    </tr>\n",
       "    <tr>\n",
       "      <th>545</th>\n",
       "      <td>2014-06-30</td>\n",
       "      <td>13308602</td>\n",
       "    </tr>\n",
       "  </tbody>\n",
       "</table>\n",
       "<p>546 rows × 2 columns</p>\n",
       "</div>"
      ],
      "text/plain": [
       "            ds         y\n",
       "0   2013-01-01     97235\n",
       "1   2013-01-02   6949829\n",
       "2   2013-01-03   6347820\n",
       "3   2013-01-04   6638954\n",
       "4   2013-01-05   5951593\n",
       "..         ...       ...\n",
       "541 2014-06-26   5802491\n",
       "542 2014-06-27   6910940\n",
       "543 2014-06-28   6586535\n",
       "544 2014-06-29    257513\n",
       "545 2014-06-30  13308602\n",
       "\n",
       "[546 rows x 2 columns]"
      ]
     },
     "execution_count": 9,
     "metadata": {},
     "output_type": "execute_result"
    }
   ],
   "source": [
    "indexed_sales = sales.set_index('ds')\n",
    "Pre_R = indexed_sales.loc['2013-01-01':'2014-06-30']\n",
    "Pre_R.reset_index(inplace = True)\n",
    "Pre_R\n"
   ]
  },
  {
   "cell_type": "code",
   "execution_count": 160,
   "id": "dd86c510",
   "metadata": {
    "ExecuteTime": {
     "end_time": "2021-05-18T10:34:45.879301Z",
     "start_time": "2021-05-18T10:34:45.848515Z"
    }
   },
   "outputs": [],
   "source": [
    "residual_df = pd.read_csv(\"../data/residual.csv\")\n",
    "residual_m_df = pd.read_csv(\"../data/residual_m.csv\")\n",
    "residual = pd.read_csv(\"../data/residual.csv\")\n",
    "residual_m = pd.read_csv(\"../data/residual_m.csv\")\n",
    "\n",
    "\n",
    "residual['ds'] = pd.to_datetime(residual['ds'])\n",
    "residual_m['ds'] = pd.to_datetime(residual_m['ds'])\n",
    "\n",
    "residual.set_index('ds', inplace=True)\n",
    "residual_m.set_index('ds', inplace=True)"
   ]
  },
  {
   "cell_type": "markdown",
   "id": "1e83bd0a",
   "metadata": {
    "heading_collapsed": true
   },
   "source": [
    "## Holidays"
   ]
  },
  {
   "cell_type": "code",
   "execution_count": 11,
   "id": "10abfe7c",
   "metadata": {
    "ExecuteTime": {
     "end_time": "2021-05-18T09:54:19.201993Z",
     "start_time": "2021-05-18T09:54:18.916776Z"
    },
    "hidden": true
   },
   "outputs": [
    {
     "data": {
      "text/plain": [
       "[<matplotlib.lines.Line2D at 0x11aef3c40>]"
      ]
     },
     "execution_count": 11,
     "metadata": {},
     "output_type": "execute_result"
    },
    {
     "data": {
      "image/png": "[encoded data removed]",
      "text/plain": [
       "<Figure size 720x432 with 1 Axes>"
      ]
     },
     "metadata": {
      "needs_background": "light"
     },
     "output_type": "display_data"
    }
   ],
   "source": [
    "plt.plot(train['Open'])"
   ]
  },
  {
   "cell_type": "code",
   "execution_count": 12,
   "id": "2a3dfff3",
   "metadata": {
    "ExecuteTime": {
     "end_time": "2021-05-18T09:54:19.448420Z",
     "start_time": "2021-05-18T09:54:19.204838Z"
    },
    "hidden": true
   },
   "outputs": [
    {
     "data": {
      "text/plain": [
       "[<matplotlib.lines.Line2D at 0x11afbcdc0>]"
      ]
     },
     "execution_count": 12,
     "metadata": {},
     "output_type": "execute_result"
    },
    {
     "data": {
      "image/png": "[encoded data removed]",
      "text/plain": [
       "<Figure size 720x432 with 1 Axes>"
      ]
     },
     "metadata": {
      "needs_background": "light"
     },
     "output_type": "display_data"
    }
   ],
   "source": [
    "train = train.groupby('Date').sum()\n",
    "#sales = sales.to_frame()\n",
    "train.reset_index(inplace = True)\n",
    "season = train.drop(columns = ['Store', 'DayOfWeek', 'Customers', 'Open', 'Promo',\n",
    "       'Sales'])\n",
    "\n",
    "season.columns=['ds','y'] \n",
    "season_indexed = season.copy()\n",
    "season_indexed['ds'] = pd.to_datetime(season_indexed['ds'])\n",
    "season_indexed.set_index('ds', inplace=True)\n",
    "season_indexed.head()\n",
    "\n",
    "plt.plot(season_indexed)"
   ]
  },
  {
   "cell_type": "markdown",
   "id": "e213591d",
   "metadata": {
    "hidden": true
   },
   "source": [
    "### Sales"
   ]
  },
  {
   "cell_type": "code",
   "execution_count": 13,
   "id": "589782a0",
   "metadata": {
    "ExecuteTime": {
     "end_time": "2021-05-18T09:54:19.473206Z",
     "start_time": "2021-05-18T09:54:19.452017Z"
    },
    "hidden": true,
    "scrolled": false
   },
   "outputs": [],
   "source": [
    "holidays = season[season['y'] > 0]\n",
    "holidays.reset_index(inplace=True, drop = True)\n",
    "holidays.columns= ['ds','holiday']\n",
    "list_holidays = holidays[\"holiday\"].to_list()\n",
    "binned_holidays = []\n",
    "for i in list_holidays:\n",
    "    if i < 251:\n",
    "        binned_holidays.append('250')\n",
    "    if i > 250 and i < 501:\n",
    "        binned_holidays.append('500')\n",
    "    if i > 500 and i < 751:\n",
    "        binned_holidays.append('750')\n",
    "    if i > 750:\n",
    "        binned_holidays.append('1000')\n",
    "binned_holidays\n",
    "\n",
    "holidays[\"holiday\"] = binned_holidays"
   ]
  },
  {
   "cell_type": "code",
   "execution_count": 14,
   "id": "6862def6",
   "metadata": {
    "ExecuteTime": {
     "end_time": "2021-05-18T09:54:19.710247Z",
     "start_time": "2021-05-18T09:54:19.475944Z"
    },
    "hidden": true
   },
   "outputs": [
    {
     "data": {
      "text/plain": [
       "[<matplotlib.lines.Line2D at 0x11b05d7c0>]"
      ]
     },
     "execution_count": 14,
     "metadata": {},
     "output_type": "execute_result"
    },
    {
     "data": {
      "image/png": "[encoded data removed]",
      "text/plain": [
       "<Figure size 720x432 with 1 Axes>"
      ]
     },
     "metadata": {
      "needs_background": "light"
     },
     "output_type": "display_data"
    }
   ],
   "source": [
    "train = train.groupby('Date').sum()\n",
    "#sales = sales.to_frame()\n",
    "train.reset_index(inplace = True)\n",
    "promo = train.drop(columns = ['Store', 'DayOfWeek', 'Customers', 'Open', 'SchoolHoliday',\n",
    "       'Sales'])\n",
    "\n",
    "promo.columns=['ds','y'] \n",
    "promo_indexed = promo.copy()\n",
    "promo_indexed['ds'] = pd.to_datetime(promo_indexed['ds'])\n",
    "promo_indexed.set_index('ds', inplace=True)\n",
    "promo_indexed.head()\n",
    "\n",
    "plt.plot(promo_indexed)"
   ]
  },
  {
   "cell_type": "code",
   "execution_count": 15,
   "id": "e4d72786",
   "metadata": {
    "ExecuteTime": {
     "end_time": "2021-05-18T09:54:19.726693Z",
     "start_time": "2021-05-18T09:54:19.718086Z"
    },
    "hidden": true
   },
   "outputs": [],
   "source": [
    "promo = promo[promo['y'] > 0]\n",
    "promo.reset_index(inplace=True, drop = True)\n",
    "promo.columns= ['ds','holiday']\n",
    "list_promo = promo[\"holiday\"].to_list()\n",
    "binned_promo = []\n",
    "for i in list_promo:\n",
    "    if i > 0:\n",
    "        binned_promo.append('promo')\n",
    "\n",
    "\n",
    "promo[\"holiday\"] = binned_promo"
   ]
  },
  {
   "cell_type": "code",
   "execution_count": 16,
   "id": "72acdcbf",
   "metadata": {
    "ExecuteTime": {
     "end_time": "2021-05-18T09:54:19.770544Z",
     "start_time": "2021-05-18T09:54:19.738797Z"
    },
    "hidden": true
   },
   "outputs": [
    {
     "data": {
      "text/html": [
       "<div>\n",
       "<style scoped>\n",
       "    .dataframe tbody tr th:only-of-type {\n",
       "        vertical-align: middle;\n",
       "    }\n",
       "\n",
       "    .dataframe tbody tr th {\n",
       "        vertical-align: top;\n",
       "    }\n",
       "\n",
       "    .dataframe thead th {\n",
       "        text-align: right;\n",
       "    }\n",
       "</style>\n",
       "<table border=\"1\" class=\"dataframe\">\n",
       "  <thead>\n",
       "    <tr style=\"text-align: right;\">\n",
       "      <th></th>\n",
       "      <th>ds</th>\n",
       "      <th>holiday</th>\n",
       "    </tr>\n",
       "  </thead>\n",
       "  <tbody>\n",
       "    <tr>\n",
       "      <th>0</th>\n",
       "      <td>2013-01-01</td>\n",
       "      <td>1000</td>\n",
       "    </tr>\n",
       "    <tr>\n",
       "      <th>1</th>\n",
       "      <td>2013-01-02</td>\n",
       "      <td>1000</td>\n",
       "    </tr>\n",
       "    <tr>\n",
       "      <th>2</th>\n",
       "      <td>2013-01-03</td>\n",
       "      <td>1000</td>\n",
       "    </tr>\n",
       "    <tr>\n",
       "      <th>3</th>\n",
       "      <td>2013-01-04</td>\n",
       "      <td>1000</td>\n",
       "    </tr>\n",
       "    <tr>\n",
       "      <th>4</th>\n",
       "      <td>2013-01-05</td>\n",
       "      <td>250</td>\n",
       "    </tr>\n",
       "    <tr>\n",
       "      <th>...</th>\n",
       "      <td>...</td>\n",
       "      <td>...</td>\n",
       "    </tr>\n",
       "    <tr>\n",
       "      <th>355</th>\n",
       "      <td>2015-07-27</td>\n",
       "      <td>promo</td>\n",
       "    </tr>\n",
       "    <tr>\n",
       "      <th>356</th>\n",
       "      <td>2015-07-28</td>\n",
       "      <td>promo</td>\n",
       "    </tr>\n",
       "    <tr>\n",
       "      <th>357</th>\n",
       "      <td>2015-07-29</td>\n",
       "      <td>promo</td>\n",
       "    </tr>\n",
       "    <tr>\n",
       "      <th>358</th>\n",
       "      <td>2015-07-30</td>\n",
       "      <td>promo</td>\n",
       "    </tr>\n",
       "    <tr>\n",
       "      <th>359</th>\n",
       "      <td>2015-07-31</td>\n",
       "      <td>promo</td>\n",
       "    </tr>\n",
       "  </tbody>\n",
       "</table>\n",
       "<p>838 rows × 2 columns</p>\n",
       "</div>"
      ],
      "text/plain": [
       "            ds holiday\n",
       "0   2013-01-01    1000\n",
       "1   2013-01-02    1000\n",
       "2   2013-01-03    1000\n",
       "3   2013-01-04    1000\n",
       "4   2013-01-05     250\n",
       "..         ...     ...\n",
       "355 2015-07-27   promo\n",
       "356 2015-07-28   promo\n",
       "357 2015-07-29   promo\n",
       "358 2015-07-30   promo\n",
       "359 2015-07-31   promo\n",
       "\n",
       "[838 rows x 2 columns]"
      ]
     },
     "execution_count": 16,
     "metadata": {},
     "output_type": "execute_result"
    }
   ],
   "source": [
    "holidays = pd.concat((holidays, promo))\n",
    "holidays"
   ]
  },
  {
   "cell_type": "markdown",
   "id": "ac99fee1",
   "metadata": {
    "heading_collapsed": true,
    "hidden": true
   },
   "source": [
    "### Pre_R"
   ]
  },
  {
   "cell_type": "code",
   "execution_count": 17,
   "id": "4b06f871",
   "metadata": {
    "ExecuteTime": {
     "end_time": "2021-05-18T09:54:19.801846Z",
     "start_time": "2021-05-18T09:54:19.775734Z"
    },
    "hidden": true
   },
   "outputs": [
    {
     "data": {
      "text/html": [
       "<div>\n",
       "<style scoped>\n",
       "    .dataframe tbody tr th:only-of-type {\n",
       "        vertical-align: middle;\n",
       "    }\n",
       "\n",
       "    .dataframe tbody tr th {\n",
       "        vertical-align: top;\n",
       "    }\n",
       "\n",
       "    .dataframe thead th {\n",
       "        text-align: right;\n",
       "    }\n",
       "</style>\n",
       "<table border=\"1\" class=\"dataframe\">\n",
       "  <thead>\n",
       "    <tr style=\"text-align: right;\">\n",
       "      <th></th>\n",
       "      <th>ds</th>\n",
       "      <th>y</th>\n",
       "    </tr>\n",
       "  </thead>\n",
       "  <tbody>\n",
       "    <tr>\n",
       "      <th>0</th>\n",
       "      <td>2013-01-01</td>\n",
       "      <td>1114</td>\n",
       "    </tr>\n",
       "    <tr>\n",
       "      <th>1</th>\n",
       "      <td>2013-01-02</td>\n",
       "      <td>1115</td>\n",
       "    </tr>\n",
       "    <tr>\n",
       "      <th>2</th>\n",
       "      <td>2013-01-03</td>\n",
       "      <td>1040</td>\n",
       "    </tr>\n",
       "    <tr>\n",
       "      <th>3</th>\n",
       "      <td>2013-01-04</td>\n",
       "      <td>1040</td>\n",
       "    </tr>\n",
       "    <tr>\n",
       "      <th>4</th>\n",
       "      <td>2013-01-05</td>\n",
       "      <td>112</td>\n",
       "    </tr>\n",
       "  </tbody>\n",
       "</table>\n",
       "</div>"
      ],
      "text/plain": [
       "          ds     y\n",
       "0 2013-01-01  1114\n",
       "1 2013-01-02  1115\n",
       "2 2013-01-03  1040\n",
       "3 2013-01-04  1040\n",
       "4 2013-01-05   112"
      ]
     },
     "execution_count": 17,
     "metadata": {},
     "output_type": "execute_result"
    }
   ],
   "source": [
    "season_Pre_R = season.set_index('ds')\n",
    "holidays_Pre_R = season_Pre_R.loc['2012-12-30':'2014-06-30']\n",
    "holidays_Pre_R.reset_index(inplace = True)\n",
    "holidays_Pre_R.head()"
   ]
  },
  {
   "cell_type": "code",
   "execution_count": 18,
   "id": "80bc6682",
   "metadata": {
    "ExecuteTime": {
     "end_time": "2021-05-18T09:54:19.834896Z",
     "start_time": "2021-05-18T09:54:19.804741Z"
    },
    "hidden": true
   },
   "outputs": [
    {
     "data": {
      "text/html": [
       "<div>\n",
       "<style scoped>\n",
       "    .dataframe tbody tr th:only-of-type {\n",
       "        vertical-align: middle;\n",
       "    }\n",
       "\n",
       "    .dataframe tbody tr th {\n",
       "        vertical-align: top;\n",
       "    }\n",
       "\n",
       "    .dataframe thead th {\n",
       "        text-align: right;\n",
       "    }\n",
       "</style>\n",
       "<table border=\"1\" class=\"dataframe\">\n",
       "  <thead>\n",
       "    <tr style=\"text-align: right;\">\n",
       "      <th></th>\n",
       "      <th>ds</th>\n",
       "      <th>holiday</th>\n",
       "    </tr>\n",
       "  </thead>\n",
       "  <tbody>\n",
       "    <tr>\n",
       "      <th>0</th>\n",
       "      <td>2013-01-01</td>\n",
       "      <td>1000</td>\n",
       "    </tr>\n",
       "    <tr>\n",
       "      <th>1</th>\n",
       "      <td>2013-01-02</td>\n",
       "      <td>1000</td>\n",
       "    </tr>\n",
       "    <tr>\n",
       "      <th>2</th>\n",
       "      <td>2013-01-03</td>\n",
       "      <td>1000</td>\n",
       "    </tr>\n",
       "    <tr>\n",
       "      <th>3</th>\n",
       "      <td>2013-01-04</td>\n",
       "      <td>1000</td>\n",
       "    </tr>\n",
       "    <tr>\n",
       "      <th>4</th>\n",
       "      <td>2013-01-05</td>\n",
       "      <td>250</td>\n",
       "    </tr>\n",
       "    <tr>\n",
       "      <th>...</th>\n",
       "      <td>...</td>\n",
       "      <td>...</td>\n",
       "    </tr>\n",
       "    <tr>\n",
       "      <th>272</th>\n",
       "      <td>2014-06-16</td>\n",
       "      <td>500</td>\n",
       "    </tr>\n",
       "    <tr>\n",
       "      <th>273</th>\n",
       "      <td>2014-06-17</td>\n",
       "      <td>500</td>\n",
       "    </tr>\n",
       "    <tr>\n",
       "      <th>274</th>\n",
       "      <td>2014-06-18</td>\n",
       "      <td>500</td>\n",
       "    </tr>\n",
       "    <tr>\n",
       "      <th>275</th>\n",
       "      <td>2014-06-19</td>\n",
       "      <td>500</td>\n",
       "    </tr>\n",
       "    <tr>\n",
       "      <th>276</th>\n",
       "      <td>2014-06-20</td>\n",
       "      <td>500</td>\n",
       "    </tr>\n",
       "  </tbody>\n",
       "</table>\n",
       "<p>277 rows × 2 columns</p>\n",
       "</div>"
      ],
      "text/plain": [
       "            ds holiday\n",
       "0   2013-01-01    1000\n",
       "1   2013-01-02    1000\n",
       "2   2013-01-03    1000\n",
       "3   2013-01-04    1000\n",
       "4   2013-01-05     250\n",
       "..         ...     ...\n",
       "272 2014-06-16     500\n",
       "273 2014-06-17     500\n",
       "274 2014-06-18     500\n",
       "275 2014-06-19     500\n",
       "276 2014-06-20     500\n",
       "\n",
       "[277 rows x 2 columns]"
      ]
     },
     "execution_count": 18,
     "metadata": {},
     "output_type": "execute_result"
    }
   ],
   "source": [
    "\n",
    "\n",
    "holidays_Pre_R = holidays_Pre_R[holidays_Pre_R['y'] > 0]\n",
    "holidays_Pre_R.reset_index(inplace=True, drop = True)\n",
    "holidays_Pre_R.columns= ['ds','holiday']\n",
    "list_holidays_Pre_R = holidays_Pre_R[\"holiday\"].to_list()\n",
    "binned_holidays_Pre_R = []\n",
    "for i in list_holidays_Pre_R:\n",
    "    if i < 251:\n",
    "        binned_holidays_Pre_R.append('250')\n",
    "    if i > 250 and i < 501:\n",
    "        binned_holidays_Pre_R.append('500')\n",
    "    if i > 500 and i < 751:\n",
    "        binned_holidays_Pre_R.append('750')\n",
    "    if i > 750:\n",
    "        binned_holidays_Pre_R.append('1000')\n",
    "#    if i > 0:\n",
    "#        binned_holidays_Pre_R.append('school')\n",
    "\n",
    "\n",
    "binned_holidays_Pre_R\n",
    "\n",
    "holidays_Pre_R[\"holiday\"] = binned_holidays_Pre_R\n",
    "holidays_Pre_R"
   ]
  },
  {
   "cell_type": "code",
   "execution_count": 19,
   "id": "415aa7b2",
   "metadata": {
    "ExecuteTime": {
     "end_time": "2021-05-18T09:54:20.171791Z",
     "start_time": "2021-05-18T09:54:19.838934Z"
    },
    "hidden": true
   },
   "outputs": [
    {
     "data": {
      "text/plain": [
       "[<matplotlib.lines.Line2D at 0x11b0ce340>]"
      ]
     },
     "execution_count": 19,
     "metadata": {},
     "output_type": "execute_result"
    },
    {
     "data": {
      "image/png": "[encoded data removed]",
      "text/plain": [
       "<Figure size 720x432 with 1 Axes>"
      ]
     },
     "metadata": {
      "needs_background": "light"
     },
     "output_type": "display_data"
    }
   ],
   "source": [
    "train = train.groupby('Date').sum()\n",
    "#sales = sales.to_frame()\n",
    "train.reset_index(inplace = True)\n",
    "promo_Pre_R = train.drop(columns = ['Store', 'DayOfWeek', 'Customers', 'Open', 'SchoolHoliday',\n",
    "       'Sales'])\n",
    "promo_Pre_R = promo_Pre_R.set_index('Date')\n",
    "promo_Pre_R = promo_Pre_R.loc['2012-12-30':'2014-06-30']\n",
    "promo_Pre_R.reset_index(inplace = True)\n",
    "\n",
    "promo_Pre_R.columns=['ds','y'] \n",
    "promo_Pre_R_indexed = promo_Pre_R.copy()\n",
    "promo_Pre_R_indexed['ds'] = pd.to_datetime(promo_Pre_R_indexed['ds'])\n",
    "promo_Pre_R_indexed.set_index('ds', inplace=True)\n",
    "promo_Pre_R_indexed.head()\n",
    "\n",
    "plt.plot(promo_Pre_R_indexed)\n"
   ]
  },
  {
   "cell_type": "code",
   "execution_count": 20,
   "id": "62ef328f",
   "metadata": {
    "ExecuteTime": {
     "end_time": "2021-05-18T09:54:20.183637Z",
     "start_time": "2021-05-18T09:54:20.175792Z"
    },
    "hidden": true
   },
   "outputs": [],
   "source": [
    "promo_Pre_R = promo_Pre_R[promo_Pre_R['y'] > 0]\n",
    "promo_Pre_R.reset_index(inplace=True, drop = True)\n",
    "promo_Pre_R.columns= ['ds','holiday']\n",
    "list_promo_Pre_R = promo_Pre_R[\"holiday\"].to_list()\n",
    "binned_promo_Pre_R = []\n",
    "for i in list_promo_Pre_R:\n",
    "    if i > 0:\n",
    "        binned_promo_Pre_R.append('promo')\n",
    "\n",
    "\n",
    "promo_Pre_R[\"holiday\"] = binned_promo_Pre_R"
   ]
  },
  {
   "cell_type": "code",
   "execution_count": 21,
   "id": "8911e75c",
   "metadata": {
    "ExecuteTime": {
     "end_time": "2021-05-18T09:54:20.209717Z",
     "start_time": "2021-05-18T09:54:20.190349Z"
    },
    "hidden": true,
    "scrolled": false
   },
   "outputs": [
    {
     "data": {
      "text/html": [
       "<div>\n",
       "<style scoped>\n",
       "    .dataframe tbody tr th:only-of-type {\n",
       "        vertical-align: middle;\n",
       "    }\n",
       "\n",
       "    .dataframe tbody tr th {\n",
       "        vertical-align: top;\n",
       "    }\n",
       "\n",
       "    .dataframe thead th {\n",
       "        text-align: right;\n",
       "    }\n",
       "</style>\n",
       "<table border=\"1\" class=\"dataframe\">\n",
       "  <thead>\n",
       "    <tr style=\"text-align: right;\">\n",
       "      <th></th>\n",
       "      <th>ds</th>\n",
       "      <th>holiday</th>\n",
       "    </tr>\n",
       "  </thead>\n",
       "  <tbody>\n",
       "    <tr>\n",
       "      <th>0</th>\n",
       "      <td>2013-01-01</td>\n",
       "      <td>1000</td>\n",
       "    </tr>\n",
       "    <tr>\n",
       "      <th>1</th>\n",
       "      <td>2013-01-02</td>\n",
       "      <td>1000</td>\n",
       "    </tr>\n",
       "    <tr>\n",
       "      <th>2</th>\n",
       "      <td>2013-01-03</td>\n",
       "      <td>1000</td>\n",
       "    </tr>\n",
       "    <tr>\n",
       "      <th>3</th>\n",
       "      <td>2013-01-04</td>\n",
       "      <td>1000</td>\n",
       "    </tr>\n",
       "    <tr>\n",
       "      <th>4</th>\n",
       "      <td>2013-01-05</td>\n",
       "      <td>250</td>\n",
       "    </tr>\n",
       "    <tr>\n",
       "      <th>...</th>\n",
       "      <td>...</td>\n",
       "      <td>...</td>\n",
       "    </tr>\n",
       "    <tr>\n",
       "      <th>196</th>\n",
       "      <td>2014-06-17</td>\n",
       "      <td>promo</td>\n",
       "    </tr>\n",
       "    <tr>\n",
       "      <th>197</th>\n",
       "      <td>2014-06-18</td>\n",
       "      <td>promo</td>\n",
       "    </tr>\n",
       "    <tr>\n",
       "      <th>198</th>\n",
       "      <td>2014-06-19</td>\n",
       "      <td>promo</td>\n",
       "    </tr>\n",
       "    <tr>\n",
       "      <th>199</th>\n",
       "      <td>2014-06-20</td>\n",
       "      <td>promo</td>\n",
       "    </tr>\n",
       "    <tr>\n",
       "      <th>200</th>\n",
       "      <td>2014-06-30</td>\n",
       "      <td>promo</td>\n",
       "    </tr>\n",
       "  </tbody>\n",
       "</table>\n",
       "<p>478 rows × 2 columns</p>\n",
       "</div>"
      ],
      "text/plain": [
       "            ds holiday\n",
       "0   2013-01-01    1000\n",
       "1   2013-01-02    1000\n",
       "2   2013-01-03    1000\n",
       "3   2013-01-04    1000\n",
       "4   2013-01-05     250\n",
       "..         ...     ...\n",
       "196 2014-06-17   promo\n",
       "197 2014-06-18   promo\n",
       "198 2014-06-19   promo\n",
       "199 2014-06-20   promo\n",
       "200 2014-06-30   promo\n",
       "\n",
       "[478 rows x 2 columns]"
      ]
     },
     "execution_count": 21,
     "metadata": {},
     "output_type": "execute_result"
    }
   ],
   "source": [
    "holidays_Pre_R = pd.concat((holidays_Pre_R, promo_Pre_R))\n",
    "holidays_Pre_R"
   ]
  },
  {
   "cell_type": "code",
   "execution_count": null,
   "id": "1d4a462e",
   "metadata": {
    "ExecuteTime": {
     "end_time": "2021-05-17T10:32:30.974132Z",
     "start_time": "2021-05-17T10:32:30.718748Z"
    },
    "hidden": true
   },
   "outputs": [],
   "source": []
  },
  {
   "cell_type": "markdown",
   "id": "16078ff3",
   "metadata": {
    "heading_collapsed": true
   },
   "source": [
    "# Functions"
   ]
  },
  {
   "cell_type": "code",
   "execution_count": 22,
   "id": "7dbc14c2",
   "metadata": {
    "ExecuteTime": {
     "end_time": "2021-05-18T09:54:20.221380Z",
     "start_time": "2021-05-18T09:54:20.212667Z"
    },
    "hidden": true
   },
   "outputs": [],
   "source": [
    "def Zero_maker(timeseries):\n",
    "    list_modified = []\n",
    "    \n",
    "    if timeseries.columns == ['yhat']:\n",
    "        timeseries_2 = timeseries.copy()\n",
    "        lista = timeseries_2['yhat'].to_list()\n",
    "        for i in lista:\n",
    "            if i < 0:\n",
    "                list_modified.append(0)\n",
    "            else:\n",
    "                list_modified.append(i)\n",
    "\n",
    "        timeseries_2['yhat'] = list_modified\n",
    "        \n",
    "        \n",
    "    elif timeseries.columns == ['y']:\n",
    "        timeseries_2 = timeseries.copy()\n",
    "        lista = timeseries_2['y'].to_list()\n",
    "        for i in lista:\n",
    "            if i < 0:\n",
    "                list_modified.append(0)\n",
    "            else:\n",
    "                list_modified.append(i)\n",
    "\n",
    "        timeseries_2['y'] = list_modified        \n",
    "    \n",
    "    \n",
    "    else:\n",
    "        print('Not y or yhat! Check column names.')\n",
    "        \n",
    "    return(timeseries_2)\n"
   ]
  },
  {
   "cell_type": "code",
   "execution_count": 23,
   "id": "22d09bef",
   "metadata": {
    "ExecuteTime": {
     "end_time": "2021-05-18T09:54:20.841127Z",
     "start_time": "2021-05-18T09:54:20.225505Z"
    },
    "hidden": true
   },
   "outputs": [],
   "source": [
    "from sklearn.metrics import mean_absolute_error, mean_squared_error, r2_score\n",
    "\n",
    "def performance_test(data, pred):\n",
    "\n",
    "    # Model validation \n",
    "    ME_train = np.mean(data['y']-pred['yhat'])\n",
    "\n",
    "    MAE_train = mean_absolute_error(data['y'],pred['yhat'])\n",
    "    \n",
    "    MSE_train = mean_squared_error(data['y'],pred['yhat'])\n",
    "\n",
    "    RMSE_train = np.sqrt(MSE_train)\n",
    "\n",
    "    MAPE_train = np.mean((np.abs(data['y']-pred['yhat']) / data['y'])* 100.)\n",
    "\n",
    "    R2_train = r2_score(data['y'],pred['yhat'])\n",
    "\n",
    "    performance = pd.DataFrame({'Error_metric': ['Mean error','Mean absolute error','Mean squared error',\n",
    "                                             'Root mean squared error','Mean absolute percentual error',\n",
    "                                             'R2'],\n",
    "                            'Train': [ME_train, MAE_train, MSE_train, RMSE_train, MAPE_train, R2_train]})\n",
    "    pd.options.display.float_format = '{:.2f}'.format\n",
    "\n",
    "\n",
    "    #df_train = pd.DataFrame({'Real_value': data, 'Predicted_value': pred})\n",
    "\n",
    "    return performance\n",
    "\n",
    "from sklearn.metrics import mean_absolute_error, mean_squared_error, r2_score\n",
    "\n",
    "def zero_performance_test(data, pred):\n",
    "\n",
    "    # Model validation \n",
    "    ME_train = np.mean(data['y']-Zero_maker(pred)['yhat'])\n",
    "\n",
    "    MAE_train = mean_absolute_error(data['y'],Zero_maker(pred)['yhat'])\n",
    "    \n",
    "    MSE_train = mean_squared_error(data['y'],Zero_maker(pred)['yhat'])\n",
    "\n",
    "    RMSE_train = np.sqrt(MSE_train)\n",
    "\n",
    "    MAPE_train = np.mean((np.abs(data['y']-Zero_maker(pred)['yhat']) / data['y'])* 100.)\n",
    "\n",
    "    R2_train = r2_score(data['y'],Zero_maker(pred)['yhat'])\n",
    "\n",
    "    performance = pd.DataFrame({'Error_metric': ['Mean error','Mean absolute error','Mean squared error',\n",
    "                                             'Root mean squared error','Mean absolute percentual error',\n",
    "                                             'R2'],\n",
    "                            'Train': [ME_train, MAE_train, MSE_train, RMSE_train, MAPE_train, R2_train]})\n",
    "    pd.options.display.float_format = '{:.2f}'.format\n",
    "\n",
    "\n",
    "    #df_train = pd.DataFrame({'Real_value': data, 'Predicted_value': pred})\n",
    "\n",
    "    return performance"
   ]
  },
  {
   "cell_type": "markdown",
   "id": "74a05555",
   "metadata": {},
   "source": [
    "# Residuals"
   ]
  },
  {
   "cell_type": "code",
   "execution_count": 24,
   "id": "be39fb03",
   "metadata": {
    "ExecuteTime": {
     "end_time": "2021-05-18T09:54:20.883194Z",
     "start_time": "2021-05-18T09:54:20.870560Z"
    }
   },
   "outputs": [
    {
     "data": {
      "text/html": [
       "<div>\n",
       "<style scoped>\n",
       "    .dataframe tbody tr th:only-of-type {\n",
       "        vertical-align: middle;\n",
       "    }\n",
       "\n",
       "    .dataframe tbody tr th {\n",
       "        vertical-align: top;\n",
       "    }\n",
       "\n",
       "    .dataframe thead th {\n",
       "        text-align: right;\n",
       "    }\n",
       "</style>\n",
       "<table border=\"1\" class=\"dataframe\">\n",
       "  <thead>\n",
       "    <tr style=\"text-align: right;\">\n",
       "      <th></th>\n",
       "      <th>y</th>\n",
       "    </tr>\n",
       "    <tr>\n",
       "      <th>ds</th>\n",
       "      <th></th>\n",
       "    </tr>\n",
       "  </thead>\n",
       "  <tbody>\n",
       "    <tr>\n",
       "      <th>2013-01-01</th>\n",
       "      <td>-45789.852723</td>\n",
       "    </tr>\n",
       "    <tr>\n",
       "      <th>2013-01-02</th>\n",
       "      <td>560386.625976</td>\n",
       "    </tr>\n",
       "    <tr>\n",
       "      <th>2013-01-03</th>\n",
       "      <td>135063.546088</td>\n",
       "    </tr>\n",
       "    <tr>\n",
       "      <th>2013-01-04</th>\n",
       "      <td>15196.795429</td>\n",
       "    </tr>\n",
       "    <tr>\n",
       "      <th>2013-01-05</th>\n",
       "      <td>-92159.850397</td>\n",
       "    </tr>\n",
       "    <tr>\n",
       "      <th>...</th>\n",
       "      <td>...</td>\n",
       "    </tr>\n",
       "    <tr>\n",
       "      <th>2015-07-27</th>\n",
       "      <td>182405.199837</td>\n",
       "    </tr>\n",
       "    <tr>\n",
       "      <th>2015-07-28</th>\n",
       "      <td>-200280.687921</td>\n",
       "    </tr>\n",
       "    <tr>\n",
       "      <th>2015-07-29</th>\n",
       "      <td>-401909.118638</td>\n",
       "    </tr>\n",
       "    <tr>\n",
       "      <th>2015-07-30</th>\n",
       "      <td>34640.673119</td>\n",
       "    </tr>\n",
       "    <tr>\n",
       "      <th>2015-07-31</th>\n",
       "      <td>903958.227792</td>\n",
       "    </tr>\n",
       "  </tbody>\n",
       "</table>\n",
       "<p>942 rows × 1 columns</p>\n",
       "</div>"
      ],
      "text/plain": [
       "                        y\n",
       "ds                       \n",
       "2013-01-01  -45789.852723\n",
       "2013-01-02  560386.625976\n",
       "2013-01-03  135063.546088\n",
       "2013-01-04   15196.795429\n",
       "2013-01-05  -92159.850397\n",
       "...                   ...\n",
       "2015-07-27  182405.199837\n",
       "2015-07-28 -200280.687921\n",
       "2015-07-29 -401909.118638\n",
       "2015-07-30   34640.673119\n",
       "2015-07-31  903958.227792\n",
       "\n",
       "[942 rows x 1 columns]"
      ]
     },
     "execution_count": 24,
     "metadata": {},
     "output_type": "execute_result"
    }
   ],
   "source": [
    "residual"
   ]
  },
  {
   "cell_type": "raw",
   "id": "cdddf07a",
   "metadata": {
    "ExecuteTime": {
     "end_time": "2021-05-17T16:28:41.820265Z",
     "start_time": "2021-05-17T16:28:41.651067Z"
    }
   },
   "source": [
    "sales_train_pred = prediction_1['yhat'][0:942]\n",
    "residual = sales['y'] - sales_train_pred\n",
    "\n",
    "residual_indexed = sales.copy()\n",
    "residual_indexed['y'] = residual.to_list()\n",
    "residual_indexed\n",
    "\n",
    "residual_indexed_S = residual_indexed.set_index('ds')\n",
    "residual_indexed_S\n"
   ]
  },
  {
   "cell_type": "code",
   "execution_count": 25,
   "id": "d592afb9",
   "metadata": {
    "ExecuteTime": {
     "end_time": "2021-05-18T09:54:21.370494Z",
     "start_time": "2021-05-18T09:54:20.893495Z"
    }
   },
   "outputs": [
    {
     "data": {
      "image/png": "[encoded data removed]",
      "text/plain": [
       "<Figure size 720x432 with 1 Axes>"
      ]
     },
     "metadata": {
      "needs_background": "light"
     },
     "output_type": "display_data"
    }
   ],
   "source": [
    "resid = plt.plot(residual, color='blue', label='original')\n",
    "resid_m = plt.plot(residual_m, color='black', label='M')\n",
    "plt.legend(loc=\"best\")\n",
    "plt.show(block = False)"
   ]
  },
  {
   "cell_type": "code",
   "execution_count": 26,
   "id": "05dd7d7e",
   "metadata": {
    "ExecuteTime": {
     "end_time": "2021-05-18T09:54:21.899919Z",
     "start_time": "2021-05-18T09:54:21.377859Z"
    }
   },
   "outputs": [
    {
     "data": {
      "image/png": "[encoded data removed]",
      "text/plain": [
       "<Figure size 720x432 with 2 Axes>"
      ]
     },
     "metadata": {
      "needs_background": "light"
     },
     "output_type": "display_data"
    }
   ],
   "source": [
    "from statsmodels.tsa.stattools import acf, pacf\n",
    "\n",
    "lag_acf = acf(residual_m, nlags=9)\n",
    "lag_pacf = pacf(residual_m, nlags=9, method='ols')\n",
    "\n",
    "#plotting\n",
    "plt.subplot(121)\n",
    "plt.plot(lag_acf)\n",
    "plt.axhline(y=0, linestyle='--', color='gray')\n",
    "plt.axhline(y=-1.96/np.sqrt(len(Pre_R)), linestyle='--', color='gray')\n",
    "plt.axhline(y=1.96/np.sqrt(len(Pre_R)), linestyle='--', color='gray')\n",
    "plt.title(\"ACF\")\n",
    "\n",
    "\n",
    "plt.subplot(122)\n",
    "plt.plot(lag_pacf)\n",
    "plt.axhline(y=0, linestyle='--', color='gray')\n",
    "plt.axhline(y=-1.96/np.sqrt(len(Pre_R)), linestyle='--', color='gray')\n",
    "plt.axhline(y=1.96/np.sqrt(len(Pre_R)), linestyle='--', color='gray')\n",
    "plt.title(\"PACF\")\n",
    "plt.tight_layout() "
   ]
  },
  {
   "cell_type": "raw",
   "id": "cd48d7fc",
   "metadata": {
    "ExecuteTime": {
     "end_time": "2021-05-18T09:54:22.344398Z",
     "start_time": "2021-05-18T09:54:21.905727Z"
    }
   },
   "source": [
    "from pmdarima.arima import auto_arima \n",
    "\n",
    "stepwise_fit = auto_arima(residual, trace=True, start_P=0, start_q=0, max_p=10, max_q=10, \n",
    "                          m=1, seasonal=False,d=None,D=0, error_action='ignore',\n",
    "                          suppress_warnings=True,stepwise=True)"
   ]
  },
  {
   "cell_type": "code",
   "execution_count": 28,
   "id": "a7295186",
   "metadata": {
    "ExecuteTime": {
     "end_time": "2021-05-18T09:54:26.541763Z",
     "start_time": "2021-05-18T09:54:26.262125Z"
    }
   },
   "outputs": [
    {
     "name": "stdout",
     "output_type": "stream",
     "text": [
      "plotting AR Model\n"
     ]
    },
    {
     "data": {
      "image/png": "[encoded data removed]",
      "text/plain": [
       "<Figure size 720x432 with 1 Axes>"
      ]
     },
     "metadata": {
      "needs_background": "light"
     },
     "output_type": "display_data"
    }
   ],
   "source": [
    "from statsmodels.tsa.arima_model import ARIMA\n",
    "\n",
    "#AR|I|MA Model\n",
    "model_3 = ARIMA(residual, order=(2,0,0))\n",
    "results_3 = model_3.fit()\n",
    "plt.plot(residual)\n",
    "plt.plot(results_3.fittedvalues, color=\"red\")\n",
    "plt.title('RMSE: %.4f'% np.sqrt(np.mean((results_3.fittedvalues - residual['y'])**2)))\n",
    "print('plotting AR Model')"
   ]
  },
  {
   "cell_type": "code",
   "execution_count": 29,
   "id": "8f3a915c",
   "metadata": {
    "ExecuteTime": {
     "end_time": "2021-05-18T09:54:26.832463Z",
     "start_time": "2021-05-18T09:54:26.790853Z"
    }
   },
   "outputs": [
    {
     "data": {
      "text/html": [
       "<div>\n",
       "<style scoped>\n",
       "    .dataframe tbody tr th:only-of-type {\n",
       "        vertical-align: middle;\n",
       "    }\n",
       "\n",
       "    .dataframe tbody tr th {\n",
       "        vertical-align: top;\n",
       "    }\n",
       "\n",
       "    .dataframe thead th {\n",
       "        text-align: right;\n",
       "    }\n",
       "</style>\n",
       "<table border=\"1\" class=\"dataframe\">\n",
       "  <thead>\n",
       "    <tr style=\"text-align: right;\">\n",
       "      <th></th>\n",
       "      <th>y</th>\n",
       "    </tr>\n",
       "    <tr>\n",
       "      <th>ds</th>\n",
       "      <th></th>\n",
       "    </tr>\n",
       "  </thead>\n",
       "  <tbody>\n",
       "    <tr>\n",
       "      <th>2013-01-01</th>\n",
       "      <td>2.158122e+05</td>\n",
       "    </tr>\n",
       "    <tr>\n",
       "      <th>2013-02-01</th>\n",
       "      <td>-9.594826e+03</td>\n",
       "    </tr>\n",
       "    <tr>\n",
       "      <th>2013-03-01</th>\n",
       "      <td>1.276473e+06</td>\n",
       "    </tr>\n",
       "    <tr>\n",
       "      <th>2013-04-01</th>\n",
       "      <td>-2.384171e+06</td>\n",
       "    </tr>\n",
       "    <tr>\n",
       "      <th>2013-05-01</th>\n",
       "      <td>-9.391887e+05</td>\n",
       "    </tr>\n",
       "    <tr>\n",
       "      <th>2013-06-01</th>\n",
       "      <td>-1.922987e+06</td>\n",
       "    </tr>\n",
       "    <tr>\n",
       "      <th>2013-07-01</th>\n",
       "      <td>5.072946e+05</td>\n",
       "    </tr>\n",
       "    <tr>\n",
       "      <th>2013-08-01</th>\n",
       "      <td>1.841104e+06</td>\n",
       "    </tr>\n",
       "    <tr>\n",
       "      <th>2013-09-01</th>\n",
       "      <td>2.356575e+05</td>\n",
       "    </tr>\n",
       "    <tr>\n",
       "      <th>2013-10-01</th>\n",
       "      <td>8.404009e+05</td>\n",
       "    </tr>\n",
       "    <tr>\n",
       "      <th>2013-11-01</th>\n",
       "      <td>1.027977e+06</td>\n",
       "    </tr>\n",
       "    <tr>\n",
       "      <th>2013-12-01</th>\n",
       "      <td>2.448890e+06</td>\n",
       "    </tr>\n",
       "    <tr>\n",
       "      <th>2014-01-01</th>\n",
       "      <td>-2.389739e+06</td>\n",
       "    </tr>\n",
       "    <tr>\n",
       "      <th>2014-02-01</th>\n",
       "      <td>-6.594833e+05</td>\n",
       "    </tr>\n",
       "    <tr>\n",
       "      <th>2014-03-01</th>\n",
       "      <td>-1.175310e+06</td>\n",
       "    </tr>\n",
       "    <tr>\n",
       "      <th>2014-04-01</th>\n",
       "      <td>5.023826e+05</td>\n",
       "    </tr>\n",
       "    <tr>\n",
       "      <th>2014-05-01</th>\n",
       "      <td>1.694657e+06</td>\n",
       "    </tr>\n",
       "    <tr>\n",
       "      <th>2014-06-01</th>\n",
       "      <td>2.758799e+06</td>\n",
       "    </tr>\n",
       "    <tr>\n",
       "      <th>2014-07-01</th>\n",
       "      <td>-1.141650e+06</td>\n",
       "    </tr>\n",
       "    <tr>\n",
       "      <th>2014-08-01</th>\n",
       "      <td>-1.632760e+06</td>\n",
       "    </tr>\n",
       "    <tr>\n",
       "      <th>2014-09-01</th>\n",
       "      <td>-8.349568e+05</td>\n",
       "    </tr>\n",
       "    <tr>\n",
       "      <th>2014-10-01</th>\n",
       "      <td>-4.047834e+05</td>\n",
       "    </tr>\n",
       "    <tr>\n",
       "      <th>2014-11-01</th>\n",
       "      <td>-4.506202e+05</td>\n",
       "    </tr>\n",
       "    <tr>\n",
       "      <th>2014-12-01</th>\n",
       "      <td>-2.285015e+06</td>\n",
       "    </tr>\n",
       "    <tr>\n",
       "      <th>2015-01-01</th>\n",
       "      <td>4.671573e+05</td>\n",
       "    </tr>\n",
       "    <tr>\n",
       "      <th>2015-02-01</th>\n",
       "      <td>5.302507e+05</td>\n",
       "    </tr>\n",
       "    <tr>\n",
       "      <th>2015-03-01</th>\n",
       "      <td>7.573116e+05</td>\n",
       "    </tr>\n",
       "    <tr>\n",
       "      <th>2015-04-01</th>\n",
       "      <td>8.746804e+05</td>\n",
       "    </tr>\n",
       "    <tr>\n",
       "      <th>2015-05-01</th>\n",
       "      <td>7.991177e+05</td>\n",
       "    </tr>\n",
       "    <tr>\n",
       "      <th>2015-06-01</th>\n",
       "      <td>-1.366421e+06</td>\n",
       "    </tr>\n",
       "    <tr>\n",
       "      <th>2015-07-01</th>\n",
       "      <td>6.051452e+05</td>\n",
       "    </tr>\n",
       "  </tbody>\n",
       "</table>\n",
       "</div>"
      ],
      "text/plain": [
       "                       y\n",
       "ds                      \n",
       "2013-01-01  2.158122e+05\n",
       "2013-02-01 -9.594826e+03\n",
       "2013-03-01  1.276473e+06\n",
       "2013-04-01 -2.384171e+06\n",
       "2013-05-01 -9.391887e+05\n",
       "2013-06-01 -1.922987e+06\n",
       "2013-07-01  5.072946e+05\n",
       "2013-08-01  1.841104e+06\n",
       "2013-09-01  2.356575e+05\n",
       "2013-10-01  8.404009e+05\n",
       "2013-11-01  1.027977e+06\n",
       "2013-12-01  2.448890e+06\n",
       "2014-01-01 -2.389739e+06\n",
       "2014-02-01 -6.594833e+05\n",
       "2014-03-01 -1.175310e+06\n",
       "2014-04-01  5.023826e+05\n",
       "2014-05-01  1.694657e+06\n",
       "2014-06-01  2.758799e+06\n",
       "2014-07-01 -1.141650e+06\n",
       "2014-08-01 -1.632760e+06\n",
       "2014-09-01 -8.349568e+05\n",
       "2014-10-01 -4.047834e+05\n",
       "2014-11-01 -4.506202e+05\n",
       "2014-12-01 -2.285015e+06\n",
       "2015-01-01  4.671573e+05\n",
       "2015-02-01  5.302507e+05\n",
       "2015-03-01  7.573116e+05\n",
       "2015-04-01  8.746804e+05\n",
       "2015-05-01  7.991177e+05\n",
       "2015-06-01 -1.366421e+06\n",
       "2015-07-01  6.051452e+05"
      ]
     },
     "execution_count": 29,
     "metadata": {},
     "output_type": "execute_result"
    }
   ],
   "source": [
    "resid_ = results_3.fittedvalues.to_list()\n",
    "resid_pred = residual.copy()\n",
    "resid_pred['y'] = resid_\n",
    "resid_pred.reset_index(inplace=True)\n",
    "resid_pred['ds'] = pd.to_datetime(resid_pred['ds'])\n",
    "resid_pred['ds'] = resid_pred['ds'].apply(lambda x: x.strftime('%Y-%m'))\n",
    "resid_pred['ds'] = pd.to_datetime(resid_pred['ds'])\n",
    "resid_pred = resid_pred.groupby('ds').sum()\n",
    "resid_pred.reset_index(inplace = True)\n",
    "resid_pred['ds'] = pd.to_datetime(resid_pred['ds'])\n",
    "\n",
    "#resid_pred.columns=['ds','y'] \n",
    "resid_pred.set_index('ds', inplace=True)\n",
    "resid_pred"
   ]
  },
  {
   "cell_type": "code",
   "execution_count": 30,
   "id": "5d1fad4a",
   "metadata": {
    "ExecuteTime": {
     "end_time": "2021-05-18T09:54:27.359002Z",
     "start_time": "2021-05-18T09:54:27.341473Z"
    }
   },
   "outputs": [
    {
     "name": "stdout",
     "output_type": "stream",
     "text": [
      "<class 'pandas.core.frame.DataFrame'>\n",
      "DatetimeIndex: 31 entries, 2013-01-01 to 2015-07-01\n",
      "Data columns (total 1 columns):\n",
      " #   Column  Non-Null Count  Dtype  \n",
      "---  ------  --------------  -----  \n",
      " 0   y       31 non-null     float64\n",
      "dtypes: float64(1)\n",
      "memory usage: 496.0 bytes\n"
     ]
    }
   ],
   "source": [
    "residual_m.info()"
   ]
  },
  {
   "cell_type": "code",
   "execution_count": 31,
   "id": "f97a9f18",
   "metadata": {
    "ExecuteTime": {
     "end_time": "2021-05-18T09:54:27.942954Z",
     "start_time": "2021-05-18T09:54:27.736907Z"
    },
    "scrolled": false
   },
   "outputs": [
    {
     "name": "stdout",
     "output_type": "stream",
     "text": [
      "plotting AR Model\n"
     ]
    },
    {
     "data": {
      "image/png": "[encoded data removed]",
      "text/plain": [
       "<Figure size 720x432 with 1 Axes>"
      ]
     },
     "metadata": {
      "needs_background": "light"
     },
     "output_type": "display_data"
    }
   ],
   "source": [
    "plt.plot(residual_m)\n",
    "plt.plot(resid_pred, color=\"red\")\n",
    "#plt.title('RMSE: %.4f'% np.sqrt(np.mean((resid_pred - residual_m)**2)))\n",
    "print('plotting AR Model')"
   ]
  },
  {
   "cell_type": "code",
   "execution_count": null,
   "id": "b3d29a7a",
   "metadata": {},
   "outputs": [],
   "source": []
  },
  {
   "cell_type": "raw",
   "id": "3dfa98b4",
   "metadata": {
    "ExecuteTime": {
     "end_time": "2021-05-18T09:54:28.209123Z",
     "start_time": "2021-05-18T09:54:28.191398Z"
    }
   },
   "source": [
    "stepwise_fit = auto_arima(residual_m, trace=True, start_P=0, start_q=0, max_p=5, max_q=5, \n",
    "                          m=12, seasonal=False,d=None,D=0, error_action='ignore',\n",
    "                          suppress_warnings=True,stepwise=True)"
   ]
  },
  {
   "cell_type": "code",
   "execution_count": 33,
   "id": "7f91dee1",
   "metadata": {
    "ExecuteTime": {
     "end_time": "2021-05-18T09:54:34.608435Z",
     "start_time": "2021-05-18T09:54:34.322227Z"
    }
   },
   "outputs": [
    {
     "name": "stdout",
     "output_type": "stream",
     "text": [
      "plotting AR Model\n"
     ]
    },
    {
     "data": {
      "image/png": "[encoded data removed]",
      "text/plain": [
       "<Figure size 720x432 with 1 Axes>"
      ]
     },
     "metadata": {
      "needs_background": "light"
     },
     "output_type": "display_data"
    }
   ],
   "source": [
    "from statsmodels.tsa.arima_model import ARIMA\n",
    "\n",
    "#AR|I|MA Model\n",
    "model_3 = ARIMA(residual_m, order=(1,0,0))\n",
    "results_3 = model_3.fit()\n",
    "plt.plot(residual_m)\n",
    "plt.plot(results_3.fittedvalues, color=\"red\")\n",
    "plt.title('RMSE: %.4f'% np.sqrt(np.mean((results_3.fittedvalues - residual_m['y'])**2)))\n",
    "print('plotting AR Model')"
   ]
  },
  {
   "cell_type": "markdown",
   "id": "a9255cf4",
   "metadata": {},
   "source": [
    "## AutoReg"
   ]
  },
  {
   "cell_type": "code",
   "execution_count": 34,
   "id": "8695b38c",
   "metadata": {
    "ExecuteTime": {
     "end_time": "2021-05-18T09:54:35.274991Z",
     "start_time": "2021-05-18T09:54:35.266924Z"
    }
   },
   "outputs": [],
   "source": [
    "from statsmodels.tsa.ar_model import AutoReg"
   ]
  },
  {
   "cell_type": "code",
   "execution_count": 35,
   "id": "95c9b77c",
   "metadata": {
    "ExecuteTime": {
     "end_time": "2021-05-18T09:54:35.594283Z",
     "start_time": "2021-05-18T09:54:35.580584Z"
    }
   },
   "outputs": [
    {
     "data": {
      "text/html": [
       "<div>\n",
       "<style scoped>\n",
       "    .dataframe tbody tr th:only-of-type {\n",
       "        vertical-align: middle;\n",
       "    }\n",
       "\n",
       "    .dataframe tbody tr th {\n",
       "        vertical-align: top;\n",
       "    }\n",
       "\n",
       "    .dataframe thead th {\n",
       "        text-align: right;\n",
       "    }\n",
       "</style>\n",
       "<table border=\"1\" class=\"dataframe\">\n",
       "  <thead>\n",
       "    <tr style=\"text-align: right;\">\n",
       "      <th></th>\n",
       "      <th>y</th>\n",
       "    </tr>\n",
       "    <tr>\n",
       "      <th>ds</th>\n",
       "      <th></th>\n",
       "    </tr>\n",
       "  </thead>\n",
       "  <tbody>\n",
       "    <tr>\n",
       "      <th>2013-01-01</th>\n",
       "      <td>97235</td>\n",
       "    </tr>\n",
       "    <tr>\n",
       "      <th>2013-01-02</th>\n",
       "      <td>6949829</td>\n",
       "    </tr>\n",
       "    <tr>\n",
       "      <th>2013-01-03</th>\n",
       "      <td>6347820</td>\n",
       "    </tr>\n",
       "    <tr>\n",
       "      <th>2013-01-04</th>\n",
       "      <td>6638954</td>\n",
       "    </tr>\n",
       "    <tr>\n",
       "      <th>2013-01-05</th>\n",
       "      <td>5951593</td>\n",
       "    </tr>\n",
       "    <tr>\n",
       "      <th>...</th>\n",
       "      <td>...</td>\n",
       "    </tr>\n",
       "    <tr>\n",
       "      <th>2015-07-27</th>\n",
       "      <td>10707292</td>\n",
       "    </tr>\n",
       "    <tr>\n",
       "      <th>2015-07-28</th>\n",
       "      <td>9115073</td>\n",
       "    </tr>\n",
       "    <tr>\n",
       "      <th>2015-07-29</th>\n",
       "      <td>8499962</td>\n",
       "    </tr>\n",
       "    <tr>\n",
       "      <th>2015-07-30</th>\n",
       "      <td>8798854</td>\n",
       "    </tr>\n",
       "    <tr>\n",
       "      <th>2015-07-31</th>\n",
       "      <td>10109742</td>\n",
       "    </tr>\n",
       "  </tbody>\n",
       "</table>\n",
       "<p>942 rows × 1 columns</p>\n",
       "</div>"
      ],
      "text/plain": [
       "                   y\n",
       "ds                  \n",
       "2013-01-01     97235\n",
       "2013-01-02   6949829\n",
       "2013-01-03   6347820\n",
       "2013-01-04   6638954\n",
       "2013-01-05   5951593\n",
       "...              ...\n",
       "2015-07-27  10707292\n",
       "2015-07-28   9115073\n",
       "2015-07-29   8499962\n",
       "2015-07-30   8798854\n",
       "2015-07-31  10109742\n",
       "\n",
       "[942 rows x 1 columns]"
      ]
     },
     "execution_count": 35,
     "metadata": {},
     "output_type": "execute_result"
    }
   ],
   "source": [
    "indexed_sales"
   ]
  },
  {
   "cell_type": "code",
   "execution_count": 36,
   "id": "5cb853fb",
   "metadata": {
    "ExecuteTime": {
     "end_time": "2021-05-18T09:54:35.872880Z",
     "start_time": "2021-05-18T09:54:35.866174Z"
    }
   },
   "outputs": [],
   "source": [
    "#create lagged dataset\n",
    "values = indexed_sales\n",
    "residual_shift = pd.concat([values.shift(1), values], axis=1)\n",
    "residual_shift.columns = ['t-1', 't+1']"
   ]
  },
  {
   "cell_type": "code",
   "execution_count": 37,
   "id": "a277e926",
   "metadata": {
    "ExecuteTime": {
     "end_time": "2021-05-18T09:54:36.218787Z",
     "start_time": "2021-05-18T09:54:36.209898Z"
    }
   },
   "outputs": [],
   "source": [
    "# split into train and test sets\n",
    "X = residual_shift.values\n",
    "train_size = int(len(X) * 0.7)\n",
    "train, test = X[1:train_size], X[train_size:]\n",
    "train_X, train_y = train[:,0], train[:,1]\n",
    "test_X, test_y = test[:,0], test[:,1]"
   ]
  },
  {
   "cell_type": "code",
   "execution_count": 38,
   "id": "e40b8483",
   "metadata": {
    "ExecuteTime": {
     "end_time": "2021-05-18T09:54:36.524155Z",
     "start_time": "2021-05-18T09:54:36.520727Z"
    }
   },
   "outputs": [],
   "source": [
    "# persistence model\n",
    "predictions = [x for x in test_X]"
   ]
  },
  {
   "cell_type": "code",
   "execution_count": 232,
   "id": "2f3b7297",
   "metadata": {
    "ExecuteTime": {
     "end_time": "2021-05-18T10:58:00.534447Z",
     "start_time": "2021-05-18T10:58:00.519655Z"
    }
   },
   "outputs": [
    {
     "name": "stdout",
     "output_type": "stream",
     "text": [
      "Coef=intercept   -5.670604e+06\n",
      "trend        2.639383e+05\n",
      "y.L1         8.670666e-02\n",
      "y.L2         7.848371e-02\n",
      "y.L3        -2.570705e-01\n",
      "y.L4         1.104890e-01\n",
      "y.L5         1.867692e-01\n",
      "y.L6        -4.695227e-01\n",
      "y.L7         2.497134e-01\n",
      "y.L8         1.284106e-01\n",
      "y.L9        -5.122255e-01\n",
      "y.L10        2.724225e-01\n",
      "y.L11        1.707115e-01\n",
      "y.L12       -9.701088e-01\n",
      "dtype: float64\n"
     ]
    }
   ],
   "source": [
    "model_AR = AutoReg(endog=residual_m, lags= 12, trend= 'n' ,seasonal=False)\n",
    "model_fit = model_AR.fit()\n",
    "coef = model_fit.params\n",
    "print('Coef=%s' % (coef))"
   ]
  },
  {
   "cell_type": "code",
   "execution_count": 40,
   "id": "d24b7b65",
   "metadata": {
    "ExecuteTime": {
     "end_time": "2021-05-18T09:54:37.384425Z",
     "start_time": "2021-05-18T09:54:37.369052Z"
    }
   },
   "outputs": [
    {
     "data": {
      "text/plain": [
       "[-547542.0,\n",
       " 333775.0,\n",
       " 59682.0,\n",
       " -1628585.0,\n",
       " -4675345.0,\n",
       " 5288982.0,\n",
       " -344586.0,\n",
       " 121260.0,\n",
       " 986878.0,\n",
       " -165481.0,\n",
       " -2584017.0,\n",
       " -3308654.0,\n",
       " 9740052.0,\n",
       " -1772506.0,\n",
       " -688286.0,\n",
       " -308943.0,\n",
       " 114223.0,\n",
       " -1668858.0,\n",
       " -5451649.0,\n",
       " 7917532.0,\n",
       " -1012161.0,\n",
       " -396789.0,\n",
       " 63824.0,\n",
       " 314705.0,\n",
       " -1488456.0,\n",
       " -5372976.0,\n",
       " 5646282.0,\n",
       " -482198.0,\n",
       " -478772.0,\n",
       " 687113.0,\n",
       " 240636.0,\n",
       " -293986.0,\n",
       " -5324230.0,\n",
       " 8822017.0,\n",
       " -1151557.0,\n",
       " -350475.0,\n",
       " 349227.0,\n",
       " 1305212.0,\n",
       " -1867175.0,\n",
       " -7063491.0,\n",
       " 10034915.0,\n",
       " -1433149.0,\n",
       " -585803.0,\n",
       " 296023.0,\n",
       " 1247814.0,\n",
       " -3322455.0,\n",
       " -6282932.0,\n",
       " 6363546.0,\n",
       " -230286.0,\n",
       " -419927.0,\n",
       " 247142.0,\n",
       " 344267.0,\n",
       " 278015.0,\n",
       " -6560556.0,\n",
       " 11914711.0,\n",
       " -1512321.0,\n",
       " -1137674.0,\n",
       " 324826.0,\n",
       " -289723.0,\n",
       " -1562078.0,\n",
       " -7697163.0,\n",
       " 10748393.0,\n",
       " -295517.0,\n",
       " -6099408.0,\n",
       " -4457330.0,\n",
       " 49852.0,\n",
       " 5505054.0,\n",
       " -5492221.0,\n",
       " 7073355.0,\n",
       " 374317.0,\n",
       " -3770152.0,\n",
       " -3765429.0,\n",
       " 7431269.0,\n",
       " -1411120.0,\n",
       " -5953118.0,\n",
       " 11106612.0,\n",
       " -4512324.0,\n",
       " 1830376.0,\n",
       " -975212.0,\n",
       " 298742.0,\n",
       " -1667645.0,\n",
       " -6094375.0,\n",
       " 9657297.0,\n",
       " -1302095.0,\n",
       " -656879.0,\n",
       " -106755.0,\n",
       " 681213.0,\n",
       " -1930456.0,\n",
       " -6329914.0,\n",
       " 6190613.0,\n",
       " -642229.0,\n",
       " 137883.0,\n",
       " 51868.0,\n",
       " 392253.0,\n",
       " -514797.0,\n",
       " -5632341.0,\n",
       " 9222775.0,\n",
       " -1009461.0,\n",
       " -462305.0,\n",
       " 94029.0,\n",
       " 1430888.0,\n",
       " -2100357.0,\n",
       " -7129041.0,\n",
       " 10065616.0,\n",
       " -1386492.0,\n",
       " -768606.0,\n",
       " -162158.0,\n",
       " 465871.0,\n",
       " -1845118.0,\n",
       " -6386460.0,\n",
       " 6268988.0,\n",
       " -132108.0,\n",
       " 48406.0,\n",
       " -242419.0,\n",
       " 1061281.0,\n",
       " -510996.0,\n",
       " -6484104.0,\n",
       " 9104739.0,\n",
       " -1022522.0,\n",
       " -241084.0,\n",
       " -27217.0,\n",
       " 63278.0,\n",
       " -1803529.0,\n",
       " -6091503.0,\n",
       " 5785561.0,\n",
       " 37006.0,\n",
       " 6378.0,\n",
       " 443354.0,\n",
       " 1307227.0,\n",
       " -357200.0,\n",
       " -7192803.0,\n",
       " 10704204.0,\n",
       " -1698225.0,\n",
       " -813241.0,\n",
       " -158326.0,\n",
       " 241154.0,\n",
       " -1939488.0,\n",
       " -6363679.0,\n",
       " 6563688.0,\n",
       " -554008.0,\n",
       " 61004.0,\n",
       " 104230.0,\n",
       " 565839.0,\n",
       " -316097.0,\n",
       " -6381492.0,\n",
       " 10632839.0,\n",
       " -2084458.0,\n",
       " -799617.0,\n",
       " 80612.0,\n",
       " 217217.0,\n",
       " -1893004.0,\n",
       " -6162242.0,\n",
       " 6552982.0,\n",
       " -562475.0,\n",
       " -152575.0,\n",
       " 288950.0,\n",
       " 715275.0,\n",
       " -248916.0,\n",
       " -6602851.0,\n",
       " 12145211.0,\n",
       " -1148540.0,\n",
       " -120883.0,\n",
       " 298417.0,\n",
       " -11157974.0,\n",
       " 9124085.0,\n",
       " -9149347.0,\n",
       " 55710.0,\n",
       " 7623234.0,\n",
       " -1105506.0,\n",
       " -230174.0,\n",
       " 108764.0,\n",
       " -223740.0,\n",
       " -6200543.0,\n",
       " 10830046.0,\n",
       " -1908947.0,\n",
       " -1163544.0,\n",
       " 394164.0,\n",
       " 341652.0,\n",
       " -2169141.0,\n",
       " -6331844.0,\n",
       " 6351521.0,\n",
       " -549399.0,\n",
       " 42731.0,\n",
       " 71324.0,\n",
       " 214041.0,\n",
       " -62109.0,\n",
       " -6071358.0,\n",
       " 10371407.0,\n",
       " -1302520.0,\n",
       " 214723.0,\n",
       " 1810144.0,\n",
       " -11063616.0,\n",
       " 8500753.0,\n",
       " -8515777.0,\n",
       " 10746699.0,\n",
       " -2216978.0,\n",
       " -145351.0,\n",
       " -82961.0,\n",
       " 114896.0,\n",
       " -1508451.0,\n",
       " -6905341.0,\n",
       " 6480909.0,\n",
       " -46352.0,\n",
       " 1461650.0,\n",
       " -7858680.0,\n",
       " 8307277.0,\n",
       " -2098677.0,\n",
       " -6242167.0,\n",
       " 10347560.0,\n",
       " -1677246.0,\n",
       " -570497.0,\n",
       " -127086.0,\n",
       " 123870.0,\n",
       " -1578466.0,\n",
       " -6512430.0,\n",
       " 38088.0,\n",
       " 7476940.0,\n",
       " -899970.0,\n",
       " 98350.0,\n",
       " 1398027.0,\n",
       " -826051.0,\n",
       " -7268079.0,\n",
       " 11464925.0,\n",
       " -1818422.0,\n",
       " -193402.0,\n",
       " -6197560.0,\n",
       " 6190662.0,\n",
       " -3246375.0,\n",
       " -6216021.0,\n",
       " 7104284.0,\n",
       " -500791.0,\n",
       " -341249.0,\n",
       " 28340.0,\n",
       " 53350.0,\n",
       " -96170.0,\n",
       " -6240728.0,\n",
       " 11300567.0,\n",
       " -1933353.0,\n",
       " -1018269.0,\n",
       " -427120.0,\n",
       " 266894.0,\n",
       " -2067591.0,\n",
       " -6140812.0,\n",
       " 6302689.0,\n",
       " -260166.0,\n",
       " -34948.0,\n",
       " -45660.0,\n",
       " 422923.0,\n",
       " -96373.0,\n",
       " -6275645.0,\n",
       " 11654003.0,\n",
       " -432740.0,\n",
       " -2494260.0,\n",
       " -543379.0,\n",
       " 84095.0,\n",
       " -2476112.0,\n",
       " -5785028.0,\n",
       " 7271225.0,\n",
       " -1147449.0,\n",
       " 522601.0,\n",
       " 22557.0,\n",
       " 126727.0,\n",
       " -802887.0,\n",
       " -5984975.0,\n",
       " 10564220.0,\n",
       " -1500862.0,\n",
       " -584268.0,\n",
       " -382264.0,\n",
       " -424536.0,\n",
       " -1500355.0,\n",
       " -6150564.0,\n",
       " 7040903.0,\n",
       " -982839.0,\n",
       " -246094.0,\n",
       " 576680.0,\n",
       " -85743.0,\n",
       " -579659.0,\n",
       " -5735801.0,\n",
       " 10421427.0,\n",
       " -1592219.0,\n",
       " -615111.0,\n",
       " 298892.0,\n",
       " 1310888.0]"
      ]
     },
     "execution_count": 40,
     "metadata": {},
     "output_type": "execute_result"
    }
   ],
   "source": [
    "#calculate residuals\n",
    "residuals_calculate = [test_y[i]-predictions[i] for i in range(len(predictions))]\n",
    "residuals_calculate"
   ]
  },
  {
   "cell_type": "code",
   "execution_count": 235,
   "id": "c3f8563f",
   "metadata": {
    "ExecuteTime": {
     "end_time": "2021-05-18T10:58:15.956575Z",
     "start_time": "2021-05-18T10:58:15.950487Z"
    }
   },
   "outputs": [],
   "source": [
    "resid_pred = model_AR.predict(residual_m[:14])"
   ]
  },
  {
   "cell_type": "code",
   "execution_count": 187,
   "id": "890f2a64",
   "metadata": {
    "ExecuteTime": {
     "end_time": "2021-05-18T10:49:54.253973Z",
     "start_time": "2021-05-18T10:49:54.245860Z"
    }
   },
   "outputs": [
    {
     "data": {
      "text/plain": [
       "array([['2013-01-01', -45789.8527232334],\n",
       "       ['2013-01-02', 560386.6259758789],\n",
       "       ['2013-01-03', 135063.5460880194],\n",
       "       ...,\n",
       "       ['2015-07-29', -401909.1186384224],\n",
       "       ['2015-07-30', 34640.67311879061],\n",
       "       ['2015-07-31', 903958.2277923116]], dtype=object)"
      ]
     },
     "execution_count": 187,
     "metadata": {},
     "output_type": "execute_result"
    }
   ],
   "source": [
    "np.asarray(residual_df)"
   ]
  },
  {
   "cell_type": "code",
   "execution_count": 239,
   "id": "3274d6a4",
   "metadata": {
    "ExecuteTime": {
     "end_time": "2021-05-18T10:58:28.641843Z",
     "start_time": "2021-05-18T10:58:28.637186Z"
    }
   },
   "outputs": [
    {
     "name": "stdout",
     "output_type": "stream",
     "text": [
      "Test RMSE: 143831131810391.781\n"
     ]
    }
   ],
   "source": [
    "rmse = np.sqrt(mean_squared_error(residual_m[12:31][\"y\"], resid_pred))\n",
    "print('Test RMSE: %.3f' % rmse)"
   ]
  },
  {
   "cell_type": "code",
   "execution_count": 240,
   "id": "0dc190ff",
   "metadata": {
    "ExecuteTime": {
     "end_time": "2021-05-18T10:58:33.456988Z",
     "start_time": "2021-05-18T10:58:33.443688Z"
    }
   },
   "outputs": [
    {
     "data": {
      "text/plain": [
       "ds\n",
       "2014-01-01   -5.735044e+06\n",
       "2014-02-01   -2.547818e+06\n",
       "2014-03-01   -4.121888e+06\n",
       "2014-04-01    2.466673e+06\n",
       "2014-05-01    6.884857e+06\n",
       "2014-06-01    1.256501e+07\n",
       "2014-07-01   -8.554430e+06\n",
       "2014-08-01   -6.045197e+06\n",
       "2014-09-01   -3.088938e+06\n",
       "2014-10-01   -1.016790e+06\n",
       "2014-11-01   -2.823210e+06\n",
       "2014-12-01   -1.198169e+07\n",
       "2015-01-01    5.995857e+06\n",
       "2015-02-01    2.574657e+06\n",
       "2015-03-01    2.913469e+06\n",
       "2015-04-01    4.655767e+06\n",
       "2015-05-01    8.581153e+04\n",
       "2015-06-01   -2.435898e+06\n",
       "2015-07-01    2.209394e+05\n",
       "Name: y, dtype: float64"
      ]
     },
     "execution_count": 240,
     "metadata": {},
     "output_type": "execute_result"
    }
   ],
   "source": [
    "residual_m[12:31][\"y\"]"
   ]
  },
  {
   "cell_type": "code",
   "execution_count": 241,
   "id": "96d61377",
   "metadata": {
    "ExecuteTime": {
     "end_time": "2021-05-18T10:58:34.675381Z",
     "start_time": "2021-05-18T10:58:34.666202Z"
    }
   },
   "outputs": [],
   "source": [
    "resid_pred.index = residual_m[12:31][\"y\"].index"
   ]
  },
  {
   "cell_type": "code",
   "execution_count": 242,
   "id": "5014c3c7",
   "metadata": {
    "ExecuteTime": {
     "end_time": "2021-05-18T10:58:35.684367Z",
     "start_time": "2021-05-18T10:58:35.500096Z"
    }
   },
   "outputs": [
    {
     "name": "stdout",
     "output_type": "stream",
     "text": [
      "plotting AR Model\n"
     ]
    },
    {
     "data": {
      "image/png": "[encoded data removed]",
      "text/plain": [
       "<Figure size 720x432 with 1 Axes>"
      ]
     },
     "metadata": {
      "needs_background": "light"
     },
     "output_type": "display_data"
    }
   ],
   "source": [
    "plt.plot(residual, color=\"blue\")\n",
    "plt.plot(resid_pred, color=\"red\")\n",
    "#plt.title('RMSE: %.4f'% np.sqrt(np.mean((resid_pred - residual)**2)))\n",
    "print('plotting AR Model')"
   ]
  },
  {
   "cell_type": "code",
   "execution_count": null,
   "id": "9e1effcd",
   "metadata": {},
   "outputs": [],
   "source": []
  },
  {
   "cell_type": "code",
   "execution_count": null,
   "id": "2e9c6289",
   "metadata": {
    "ExecuteTime": {
     "end_time": "2021-05-18T09:54:22.525530Z",
     "start_time": "2021-05-18T09:54:15.538Z"
    }
   },
   "outputs": [],
   "source": [
    "from statsmodels.tsa.ar_model import AutoReg"
   ]
  },
  {
   "cell_type": "code",
   "execution_count": 264,
   "id": "ff4b9166",
   "metadata": {
    "ExecuteTime": {
     "end_time": "2021-05-18T11:15:58.727806Z",
     "start_time": "2021-05-18T11:15:58.530155Z"
    }
   },
   "outputs": [
    {
     "data": {
      "text/plain": [
       "2014-01-01    8.819606e+12\n",
       "2014-01-02    1.540943e+13\n",
       "2014-01-03   -1.549099e+13\n",
       "2014-01-04   -7.373759e+12\n",
       "2014-01-05   -1.809857e+13\n",
       "                  ...     \n",
       "2015-07-27    7.376678e+12\n",
       "2015-07-28    1.540527e+13\n",
       "2015-07-29   -2.013107e+12\n",
       "2015-07-30    1.544735e+13\n",
       "2015-07-31    1.155002e+13\n",
       "Freq: D, Length: 577, dtype: float64"
      ]
     },
     "execution_count": 264,
     "metadata": {},
     "output_type": "execute_result"
    }
   ],
   "source": [
    "\n",
    "model_AR = AutoReg(np.sqrt)residual, lags = 365,seasonal=False, trend = 'n')\n",
    "model_AR.fit()\n",
    "prediction = model_AR.predict(residual[577:])\n",
    "prediction"
   ]
  },
  {
   "cell_type": "markdown",
   "id": "f2cedde0",
   "metadata": {
    "heading_collapsed": true
   },
   "source": [
    "# Final models"
   ]
  },
  {
   "cell_type": "code",
   "execution_count": null,
   "id": "34a9c1af",
   "metadata": {
    "hidden": true
   },
   "outputs": [],
   "source": [
    "from statsmodels.tsa.arima_model import ARIMA\n",
    "\n",
    "#AR|I|MA Model\n",
    "model_3 = ARIMA(residual, order=(2,0,0))\n",
    "results_3 = model_3.fit()\n",
    "plt.plot(residual)\n",
    "plt.plot(results_3.fittedvalues, color=\"red\")\n",
    "plt.title('RMSE: %.4f'% np.sqrt(np.mean((results_3.fittedvalues - residual['y'])**2)))\n",
    "print('plotting AR Model')"
   ]
  },
  {
   "cell_type": "code",
   "execution_count": null,
   "id": "b763c3e0",
   "metadata": {
    "hidden": true
   },
   "outputs": [],
   "source": [
    "resid_ = results_3.fittedvalues.to_list()\n",
    "resid_pred = residual.copy()\n",
    "resid_pred['y'] = resid_\n",
    "resid_pred.reset_index(inplace=True)\n",
    "resid_pred['ds'] = pd.to_datetime(resid_pred['ds'])\n",
    "resid_pred['ds'] = resid_pred['ds'].apply(lambda x: x.strftime('%Y-%m'))\n",
    "resid_pred['ds'] = pd.to_datetime(resid_pred['ds'])\n",
    "resid_pred = resid_pred.groupby('ds').sum()\n",
    "resid_pred.reset_index(inplace = True)\n",
    "resid_pred['ds'] = pd.to_datetime(resid_pred['ds'])\n",
    "\n",
    "#resid_pred.columns=['ds','y'] \n",
    "resid_pred.set_index('ds', inplace=True)\n",
    "resid_pred"
   ]
  },
  {
   "cell_type": "code",
   "execution_count": null,
   "id": "313c3e3d",
   "metadata": {
    "hidden": true
   },
   "outputs": [],
   "source": [
    "plt.plot(residual_m)\n",
    "plt.plot(resid_pred, color=\"red\")\n",
    "#plt.title('RMSE: %.4f'% np.sqrt(np.mean((resid_pred - residual_m)**2)))\n",
    "print('plotting AR Model')"
   ]
  },
  {
   "cell_type": "code",
   "execution_count": null,
   "id": "c690293f",
   "metadata": {
    "hidden": true
   },
   "outputs": [],
   "source": []
  },
  {
   "cell_type": "code",
   "execution_count": null,
   "id": "422e6eba",
   "metadata": {
    "hidden": true
   },
   "outputs": [],
   "source": []
  }
 ],
 "metadata": {
  "kernelspec": {
   "display_name": "Python 3",
   "language": "python",
   "name": "python3"
  },
  "language_info": {
   "codemirror_mode": {
    "name": "ipython",
    "version": 3
   },
   "file_extension": ".py",
   "mimetype": "text/x-python",
   "name": "python",
   "nbconvert_exporter": "python",
   "pygments_lexer": "ipython3",
   "version": "3.8.10"
  },
  "toc": {
   "base_numbering": 1,
   "nav_menu": {},
   "number_sections": true,
   "sideBar": true,
   "skip_h1_title": false,
   "title_cell": "Table of Contents",
   "title_sidebar": "Contents",
   "toc_cell": true,
   "toc_position": {},
   "toc_section_display": true,
   "toc_window_display": false
  },
  "varInspector": {
   "cols": {
    "lenName": 16,
    "lenType": 16,
    "lenVar": 40
   },
   "kernels_config": {
    "python": {
     "delete_cmd_postfix": "",
     "delete_cmd_prefix": "del ",
     "library": "var_list.py",
     "varRefreshCmd": "print(var_dic_list())"
    },
    "r": {
     "delete_cmd_postfix": ") ",
     "delete_cmd_prefix": "rm(",
     "library": "var_list.r",
     "varRefreshCmd": "cat(var_dic_list()) "
    }
   },
   "types_to_exclude": [
    "module",
    "function",
    "builtin_function_or_method",
    "instance",
    "_Feature"
   ],
   "window_display": false
  }
 },
 "nbformat": 4,
 "nbformat_minor": 5
}
